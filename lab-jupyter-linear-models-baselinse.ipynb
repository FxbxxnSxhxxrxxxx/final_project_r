{
 "cells": [
  {
   "cell_type": "markdown",
   "id": "85929c65-8601-4936-ab49-ede434a2b0b2",
   "metadata": {},
   "source": [
    "<center>\n",
    "<img src=\"https://cf-courses-data.s3.us.cloud-object-storage.appdomain.cloud/IBMDeveloperSkillsNetwork-RP0321EN-SkillsNetwork/labs/module_1/images/SN_web_lightmode.png\" width=\"300\"> \n",
    "</center>\n"
   ]
  },
  {
   "cell_type": "markdown",
   "id": "02a9608f-7909-47af-b0e7-34ca9bc6250f",
   "metadata": {},
   "source": [
    "<h1>Predict Hourly Rented Bike Count using Basic Linear Regression Models</h1>\n",
    "\n",
    "Estimated time needed: **90** minutes\n"
   ]
  },
  {
   "cell_type": "markdown",
   "id": "24559d7a-4d4a-4d12-9927-d1dd0838a41d",
   "metadata": {},
   "source": [
    "## Lab Overview:\n",
    "\n",
    "Now that you have performed exploratory analysis on the bike sharing demand dataset and obtained some insights on the attributes, it's time to build predictive models to predict the hourly rented bike count using related weather and date information.\n",
    "\n",
    "In this lab, you will be asked to use `tidymodels` to build some baseline linear regression models:\n",
    "- **TASK: Split data into training and testing datasets**\n",
    "- **TASK: Build a linear regression model using only the weather variables**\n",
    "- **TASK: Build a linear regression model using both weather and date variables**\n",
    "- **TASK: Evaluate the models and identify important variables**\n",
    "\n",
    "Let's start!\n"
   ]
  },
  {
   "cell_type": "markdown",
   "id": "849aacc7-b218-44a9-886a-bdf13cfe8627",
   "metadata": {},
   "source": [
    "First install and import the necessary libraries\n"
   ]
  },
  {
   "cell_type": "code",
   "execution_count": 1,
   "id": "e84ecb0d-7986-47bf-b626-fba59ead2c0b",
   "metadata": {},
   "outputs": [
    {
     "name": "stdout",
     "output_type": "stream",
     "text": [
      "package 'rlang' successfully unpacked and MD5 sums checked\n"
     ]
    },
    {
     "name": "stderr",
     "output_type": "stream",
     "text": [
      "Warning message:\n",
      "\"cannot remove prior installation of package 'rlang'\"\n",
      "Warning message in file.copy(savedcopy, lib, recursive = TRUE):\n",
      "\"problem copying C:\\ProgramData\\Anaconda3\\Lib\\R\\library\\00LOCK\\rlang\\libs\\x64\\rlang.dll to C:\\ProgramData\\Anaconda3\\Lib\\R\\library\\rlang\\libs\\x64\\rlang.dll: Permission denied\"\n",
      "Warning message:\n",
      "\"restored 'rlang'\"\n"
     ]
    },
    {
     "name": "stdout",
     "output_type": "stream",
     "text": [
      "\n",
      "The downloaded binary packages are in\n",
      "\tC:\\Users\\schlarma\\AppData\\Local\\Temp\\Rtmpk1f6lS\\downloaded_packages\n",
      "package 'tidymodels' successfully unpacked and MD5 sums checked\n",
      "\n",
      "The downloaded binary packages are in\n",
      "\tC:\\Users\\schlarma\\AppData\\Local\\Temp\\Rtmpk1f6lS\\downloaded_packages\n"
     ]
    }
   ],
   "source": [
    "# It may take several minutes to install those libraries in Watson Studio\n",
    "install.packages(\"rlang\")\n",
    "install.packages(\"tidymodels\")"
   ]
  },
  {
   "cell_type": "code",
   "execution_count": 2,
   "metadata": {},
   "outputs": [
    {
     "name": "stderr",
     "output_type": "stream",
     "text": [
      "-- \u001b[1mAttaching packages\u001b[22m -------------------------------------- tidymodels 1.0.0 --\n",
      "\n",
      "\u001b[32mv\u001b[39m \u001b[34mbroom       \u001b[39m 1.0.4     \u001b[32mv\u001b[39m \u001b[34mrecipes     \u001b[39m 1.0.5\n",
      "\u001b[32mv\u001b[39m \u001b[34mdials       \u001b[39m 1.1.0     \u001b[32mv\u001b[39m \u001b[34mrsample     \u001b[39m 1.1.1\n",
      "\u001b[32mv\u001b[39m \u001b[34mdplyr       \u001b[39m 1.1.0     \u001b[32mv\u001b[39m \u001b[34mtibble      \u001b[39m 3.1.8\n",
      "\u001b[32mv\u001b[39m \u001b[34mggplot2     \u001b[39m 3.4.1     \u001b[32mv\u001b[39m \u001b[34mtidyr       \u001b[39m 1.3.0\n",
      "\u001b[32mv\u001b[39m \u001b[34minfer       \u001b[39m 1.0.4     \u001b[32mv\u001b[39m \u001b[34mtune        \u001b[39m 1.0.1\n",
      "\u001b[32mv\u001b[39m \u001b[34mmodeldata   \u001b[39m 1.1.0     \u001b[32mv\u001b[39m \u001b[34mworkflows   \u001b[39m 1.1.3\n",
      "\u001b[32mv\u001b[39m \u001b[34mparsnip     \u001b[39m 1.0.4     \u001b[32mv\u001b[39m \u001b[34mworkflowsets\u001b[39m 1.0.0\n",
      "\u001b[32mv\u001b[39m \u001b[34mpurrr       \u001b[39m 1.0.1     \u001b[32mv\u001b[39m \u001b[34myardstick   \u001b[39m 1.1.0\n",
      "\n",
      "-- \u001b[1mConflicts\u001b[22m ----------------------------------------- tidymodels_conflicts() --\n",
      "\u001b[31mx\u001b[39m \u001b[34mpurrr\u001b[39m::\u001b[32mdiscard()\u001b[39m masks \u001b[34mscales\u001b[39m::discard()\n",
      "\u001b[31mx\u001b[39m \u001b[34mdplyr\u001b[39m::\u001b[32mfilter()\u001b[39m  masks \u001b[34mstats\u001b[39m::filter()\n",
      "\u001b[31mx\u001b[39m \u001b[34mdplyr\u001b[39m::\u001b[32mlag()\u001b[39m     masks \u001b[34mstats\u001b[39m::lag()\n",
      "\u001b[31mx\u001b[39m \u001b[34mrecipes\u001b[39m::\u001b[32mstep()\u001b[39m  masks \u001b[34mstats\u001b[39m::step()\n",
      "\u001b[34m*\u001b[39m Use \u001b[32mtidymodels_prefer()\u001b[39m to resolve common conflicts.\n",
      "\n",
      "-- \u001b[1mAttaching core tidyverse packages\u001b[22m ------------------------ tidyverse 2.0.0 --\n",
      "\u001b[32mv\u001b[39m \u001b[34mforcats  \u001b[39m 1.0.0     \u001b[32mv\u001b[39m \u001b[34mreadr    \u001b[39m 2.1.4\n",
      "\u001b[32mv\u001b[39m \u001b[34mlubridate\u001b[39m 1.9.2     \u001b[32mv\u001b[39m \u001b[34mstringr  \u001b[39m 1.5.0\n",
      "-- \u001b[1mConflicts\u001b[22m ------------------------------------------ tidyverse_conflicts() --\n",
      "\u001b[31mx\u001b[39m \u001b[34mreadr\u001b[39m::\u001b[32mcol_factor()\u001b[39m masks \u001b[34mscales\u001b[39m::col_factor()\n",
      "\u001b[31mx\u001b[39m \u001b[34mpurrr\u001b[39m::\u001b[32mdiscard()\u001b[39m    masks \u001b[34mscales\u001b[39m::discard()\n",
      "\u001b[31mx\u001b[39m \u001b[34mdplyr\u001b[39m::\u001b[32mfilter()\u001b[39m     masks \u001b[34mstats\u001b[39m::filter()\n",
      "\u001b[31mx\u001b[39m \u001b[34mstringr\u001b[39m::\u001b[32mfixed()\u001b[39m    masks \u001b[34mrecipes\u001b[39m::fixed()\n",
      "\u001b[31mx\u001b[39m \u001b[34mdplyr\u001b[39m::\u001b[32mlag()\u001b[39m        masks \u001b[34mstats\u001b[39m::lag()\n",
      "\u001b[31mx\u001b[39m \u001b[34mreadr\u001b[39m::\u001b[32mspec()\u001b[39m       masks \u001b[34myardstick\u001b[39m::spec()\n",
      "\u001b[36mi\u001b[39m Use the conflicted package (\u001b[3m\u001b[34m<http://conflicted.r-lib.org/>\u001b[39m\u001b[23m) to force all conflicts to become errors\n"
     ]
    }
   ],
   "source": [
    "library(\"tidymodels\")\n",
    "library(\"tidyverse\")\n",
    "library(\"stringr\")"
   ]
  },
  {
   "cell_type": "markdown",
   "id": "5dacc18d-0114-4db4-8eb5-60a279a42798",
   "metadata": {},
   "source": [
    "The `seoul_bike_sharing_converted_normalized.csv` will be our main dataset which has following variables:\n",
    "\n",
    "The response variable:\n",
    "- `RENTED BIKE COUNT`- Count of bikes rented at each hour\n",
    "\n",
    "Weather predictor variables:\n",
    "- `TEMPERATURE` - Temperature in Celsius\n",
    "- `HUMIDITY` - Unit is `%`\n",
    "- `WIND_SPEED` - Unit is `m/s`\n",
    "- `VISIBILITY` - Multiplied by 10m\n",
    "- `DEW_POINT_TEMPERATURE` - The temperature to which the air would have to cool down in order to reach saturation, unit is Celsius\n",
    "- `SOLAR_RADIATION` - MJ/m2\n",
    "- `RAINFALL` - mm\n",
    "- `SNOWFALL` - cm\n",
    "\n",
    "Date/time predictor variables:\n",
    "- `DATE` - Year-month-day\n",
    "- `HOUR`- Hour of he day\n",
    "- `FUNCTIONAL DAY` - NoFunc(Non Functional Hours), Fun(Functional hours)\n",
    "- `HOLIDAY` - Holiday/No holiday\n",
    "- `SEASONS` - Winter, Spring, Summer, Autumn\n"
   ]
  },
  {
   "cell_type": "markdown",
   "id": "88dabd61-1781-43f3-9ffe-c2d15c0b1570",
   "metadata": {},
   "source": [
    "Let's read the dataset as a dataframe first:\n"
   ]
  },
  {
   "cell_type": "code",
   "execution_count": 3,
   "id": "91cb2fb0-9b73-4378-bf24-e9f9d9452a88",
   "metadata": {},
   "outputs": [
    {
     "data": {
      "text/plain": [
       "cols(\n",
       "  DATE = \u001b[31mcol_character()\u001b[39m,\n",
       "  RENTED_BIKE_COUNT = \u001b[32mcol_double()\u001b[39m,\n",
       "  TEMPERATURE = \u001b[32mcol_double()\u001b[39m,\n",
       "  HUMIDITY = \u001b[32mcol_double()\u001b[39m,\n",
       "  WIND_SPEED = \u001b[32mcol_double()\u001b[39m,\n",
       "  VISIBILITY = \u001b[32mcol_double()\u001b[39m,\n",
       "  DEW_POINT_TEMPERATURE = \u001b[32mcol_double()\u001b[39m,\n",
       "  SOLAR_RADIATION = \u001b[32mcol_double()\u001b[39m,\n",
       "  RAINFALL = \u001b[32mcol_double()\u001b[39m,\n",
       "  SNOWFALL = \u001b[32mcol_double()\u001b[39m,\n",
       "  FUNCTIONING_DAY = \u001b[31mcol_character()\u001b[39m,\n",
       "  `0` = \u001b[32mcol_double()\u001b[39m,\n",
       "  `1` = \u001b[32mcol_double()\u001b[39m,\n",
       "  `10` = \u001b[32mcol_double()\u001b[39m,\n",
       "  `11` = \u001b[32mcol_double()\u001b[39m,\n",
       "  `12` = \u001b[32mcol_double()\u001b[39m,\n",
       "  `13` = \u001b[32mcol_double()\u001b[39m,\n",
       "  `14` = \u001b[32mcol_double()\u001b[39m,\n",
       "  `15` = \u001b[32mcol_double()\u001b[39m,\n",
       "  `16` = \u001b[32mcol_double()\u001b[39m,\n",
       "  `17` = \u001b[32mcol_double()\u001b[39m,\n",
       "  `18` = \u001b[32mcol_double()\u001b[39m,\n",
       "  `19` = \u001b[32mcol_double()\u001b[39m,\n",
       "  `2` = \u001b[32mcol_double()\u001b[39m,\n",
       "  `20` = \u001b[32mcol_double()\u001b[39m,\n",
       "  `21` = \u001b[32mcol_double()\u001b[39m,\n",
       "  `22` = \u001b[32mcol_double()\u001b[39m,\n",
       "  `23` = \u001b[32mcol_double()\u001b[39m,\n",
       "  `3` = \u001b[32mcol_double()\u001b[39m,\n",
       "  `4` = \u001b[32mcol_double()\u001b[39m,\n",
       "  `5` = \u001b[32mcol_double()\u001b[39m,\n",
       "  `6` = \u001b[32mcol_double()\u001b[39m,\n",
       "  `7` = \u001b[32mcol_double()\u001b[39m,\n",
       "  `8` = \u001b[32mcol_double()\u001b[39m,\n",
       "  `9` = \u001b[32mcol_double()\u001b[39m,\n",
       "  AUTUMN = \u001b[32mcol_double()\u001b[39m,\n",
       "  SPRING = \u001b[32mcol_double()\u001b[39m,\n",
       "  SUMMER = \u001b[32mcol_double()\u001b[39m,\n",
       "  WINTER = \u001b[32mcol_double()\u001b[39m,\n",
       "  HOLIDAY = \u001b[32mcol_double()\u001b[39m,\n",
       "  NO_HOLIDAY = \u001b[32mcol_double()\u001b[39m\n",
       ")"
      ]
     },
     "metadata": {},
     "output_type": "display_data"
    }
   ],
   "source": [
    "# Dataset URL\n",
    "dataset_url <- \"seoul_bike_sharing_converted_normalized.csv\"\n",
    "bike_sharing_df <- read_csv(dataset_url, show_col_types = FALSE)\n",
    "spec(bike_sharing_df)"
   ]
  },
  {
   "cell_type": "markdown",
   "id": "531c5feb-8cd7-493a-9da3-f3d831fc19d4",
   "metadata": {},
   "source": [
    "We won't be using the `DATE` column, because 'as is', it basically acts like an data entry index. (However, given more time, we could use the `DATE` colum to create a 'day of week' or 'isWeekend' column, which we might expect has an affect on preferred bike rental times.) We also do not need the `FUNCTIONAL DAY` column because it only has one distinct value remaining (`YES`) after missing value processing.\n"
   ]
  },
  {
   "cell_type": "code",
   "execution_count": 4,
   "id": "56770629-c861-4b37-af1d-d2a451935f04",
   "metadata": {},
   "outputs": [],
   "source": [
    "bike_sharing_df <- bike_sharing_df %>% \n",
    "                   select(-DATE, - FUNCTIONING_DAY)"
   ]
  },
  {
   "cell_type": "code",
   "execution_count": 5,
   "metadata": {},
   "outputs": [
    {
     "data": {
      "text/html": [
       "<table class=\"dataframe\">\n",
       "<caption>A tibble: 6 × 39</caption>\n",
       "<thead>\n",
       "\t<tr><th scope=col>RENTED_BIKE_COUNT</th><th scope=col>TEMPERATURE</th><th scope=col>HUMIDITY</th><th scope=col>WIND_SPEED</th><th scope=col>VISIBILITY</th><th scope=col>DEW_POINT_TEMPERATURE</th><th scope=col>SOLAR_RADIATION</th><th scope=col>RAINFALL</th><th scope=col>SNOWFALL</th><th scope=col>0</th><th scope=col>...</th><th scope=col>6</th><th scope=col>7</th><th scope=col>8</th><th scope=col>9</th><th scope=col>AUTUMN</th><th scope=col>SPRING</th><th scope=col>SUMMER</th><th scope=col>WINTER</th><th scope=col>HOLIDAY</th><th scope=col>NO_HOLIDAY</th></tr>\n",
       "\t<tr><th scope=col>&lt;dbl&gt;</th><th scope=col>&lt;dbl&gt;</th><th scope=col>&lt;dbl&gt;</th><th scope=col>&lt;dbl&gt;</th><th scope=col>&lt;dbl&gt;</th><th scope=col>&lt;dbl&gt;</th><th scope=col>&lt;dbl&gt;</th><th scope=col>&lt;dbl&gt;</th><th scope=col>&lt;dbl&gt;</th><th scope=col>&lt;dbl&gt;</th><th scope=col>...</th><th scope=col>&lt;dbl&gt;</th><th scope=col>&lt;dbl&gt;</th><th scope=col>&lt;dbl&gt;</th><th scope=col>&lt;dbl&gt;</th><th scope=col>&lt;dbl&gt;</th><th scope=col>&lt;dbl&gt;</th><th scope=col>&lt;dbl&gt;</th><th scope=col>&lt;dbl&gt;</th><th scope=col>&lt;dbl&gt;</th><th scope=col>&lt;dbl&gt;</th></tr>\n",
       "</thead>\n",
       "<tbody>\n",
       "\t<tr><td>254</td><td>0.2202797</td><td>0.3775510</td><td>0.2972973</td><td>1</td><td>0.2249135</td><td>0</td><td>0</td><td>0</td><td>1</td><td>...</td><td>0</td><td>0</td><td>0</td><td>0</td><td>0</td><td>0</td><td>0</td><td>1</td><td>0</td><td>1</td></tr>\n",
       "\t<tr><td>204</td><td>0.2150350</td><td>0.3877551</td><td>0.1081081</td><td>1</td><td>0.2249135</td><td>0</td><td>0</td><td>0</td><td>0</td><td>...</td><td>0</td><td>0</td><td>0</td><td>0</td><td>0</td><td>0</td><td>0</td><td>1</td><td>0</td><td>1</td></tr>\n",
       "\t<tr><td>173</td><td>0.2062937</td><td>0.3979592</td><td>0.1351351</td><td>1</td><td>0.2231834</td><td>0</td><td>0</td><td>0</td><td>0</td><td>...</td><td>0</td><td>0</td><td>0</td><td>0</td><td>0</td><td>0</td><td>0</td><td>1</td><td>0</td><td>1</td></tr>\n",
       "\t<tr><td>107</td><td>0.2027972</td><td>0.4081633</td><td>0.1216216</td><td>1</td><td>0.2249135</td><td>0</td><td>0</td><td>0</td><td>0</td><td>...</td><td>0</td><td>0</td><td>0</td><td>0</td><td>0</td><td>0</td><td>0</td><td>1</td><td>0</td><td>1</td></tr>\n",
       "\t<tr><td> 78</td><td>0.2062937</td><td>0.3673469</td><td>0.3108108</td><td>1</td><td>0.2076125</td><td>0</td><td>0</td><td>0</td><td>0</td><td>...</td><td>0</td><td>0</td><td>0</td><td>0</td><td>0</td><td>0</td><td>0</td><td>1</td><td>0</td><td>1</td></tr>\n",
       "\t<tr><td>100</td><td>0.1993007</td><td>0.3775510</td><td>0.2027027</td><td>1</td><td>0.2058824</td><td>0</td><td>0</td><td>0</td><td>0</td><td>...</td><td>0</td><td>0</td><td>0</td><td>0</td><td>0</td><td>0</td><td>0</td><td>1</td><td>0</td><td>1</td></tr>\n",
       "</tbody>\n",
       "</table>\n"
      ],
      "text/latex": [
       "A tibble: 6 × 39\n",
       "\\begin{tabular}{lllllllllllllllllllll}\n",
       " RENTED\\_BIKE\\_COUNT & TEMPERATURE & HUMIDITY & WIND\\_SPEED & VISIBILITY & DEW\\_POINT\\_TEMPERATURE & SOLAR\\_RADIATION & RAINFALL & SNOWFALL & 0 & ... & 6 & 7 & 8 & 9 & AUTUMN & SPRING & SUMMER & WINTER & HOLIDAY & NO\\_HOLIDAY\\\\\n",
       " <dbl> & <dbl> & <dbl> & <dbl> & <dbl> & <dbl> & <dbl> & <dbl> & <dbl> & <dbl> & ... & <dbl> & <dbl> & <dbl> & <dbl> & <dbl> & <dbl> & <dbl> & <dbl> & <dbl> & <dbl>\\\\\n",
       "\\hline\n",
       "\t 254 & 0.2202797 & 0.3775510 & 0.2972973 & 1 & 0.2249135 & 0 & 0 & 0 & 1 & ... & 0 & 0 & 0 & 0 & 0 & 0 & 0 & 1 & 0 & 1\\\\\n",
       "\t 204 & 0.2150350 & 0.3877551 & 0.1081081 & 1 & 0.2249135 & 0 & 0 & 0 & 0 & ... & 0 & 0 & 0 & 0 & 0 & 0 & 0 & 1 & 0 & 1\\\\\n",
       "\t 173 & 0.2062937 & 0.3979592 & 0.1351351 & 1 & 0.2231834 & 0 & 0 & 0 & 0 & ... & 0 & 0 & 0 & 0 & 0 & 0 & 0 & 1 & 0 & 1\\\\\n",
       "\t 107 & 0.2027972 & 0.4081633 & 0.1216216 & 1 & 0.2249135 & 0 & 0 & 0 & 0 & ... & 0 & 0 & 0 & 0 & 0 & 0 & 0 & 1 & 0 & 1\\\\\n",
       "\t  78 & 0.2062937 & 0.3673469 & 0.3108108 & 1 & 0.2076125 & 0 & 0 & 0 & 0 & ... & 0 & 0 & 0 & 0 & 0 & 0 & 0 & 1 & 0 & 1\\\\\n",
       "\t 100 & 0.1993007 & 0.3775510 & 0.2027027 & 1 & 0.2058824 & 0 & 0 & 0 & 0 & ... & 0 & 0 & 0 & 0 & 0 & 0 & 0 & 1 & 0 & 1\\\\\n",
       "\\end{tabular}\n"
      ],
      "text/markdown": [
       "\n",
       "A tibble: 6 × 39\n",
       "\n",
       "| RENTED_BIKE_COUNT &lt;dbl&gt; | TEMPERATURE &lt;dbl&gt; | HUMIDITY &lt;dbl&gt; | WIND_SPEED &lt;dbl&gt; | VISIBILITY &lt;dbl&gt; | DEW_POINT_TEMPERATURE &lt;dbl&gt; | SOLAR_RADIATION &lt;dbl&gt; | RAINFALL &lt;dbl&gt; | SNOWFALL &lt;dbl&gt; | 0 &lt;dbl&gt; | ... ... | 6 &lt;dbl&gt; | 7 &lt;dbl&gt; | 8 &lt;dbl&gt; | 9 &lt;dbl&gt; | AUTUMN &lt;dbl&gt; | SPRING &lt;dbl&gt; | SUMMER &lt;dbl&gt; | WINTER &lt;dbl&gt; | HOLIDAY &lt;dbl&gt; | NO_HOLIDAY &lt;dbl&gt; |\n",
       "|---|---|---|---|---|---|---|---|---|---|---|---|---|---|---|---|---|---|---|---|---|\n",
       "| 254 | 0.2202797 | 0.3775510 | 0.2972973 | 1 | 0.2249135 | 0 | 0 | 0 | 1 | ... | 0 | 0 | 0 | 0 | 0 | 0 | 0 | 1 | 0 | 1 |\n",
       "| 204 | 0.2150350 | 0.3877551 | 0.1081081 | 1 | 0.2249135 | 0 | 0 | 0 | 0 | ... | 0 | 0 | 0 | 0 | 0 | 0 | 0 | 1 | 0 | 1 |\n",
       "| 173 | 0.2062937 | 0.3979592 | 0.1351351 | 1 | 0.2231834 | 0 | 0 | 0 | 0 | ... | 0 | 0 | 0 | 0 | 0 | 0 | 0 | 1 | 0 | 1 |\n",
       "| 107 | 0.2027972 | 0.4081633 | 0.1216216 | 1 | 0.2249135 | 0 | 0 | 0 | 0 | ... | 0 | 0 | 0 | 0 | 0 | 0 | 0 | 1 | 0 | 1 |\n",
       "|  78 | 0.2062937 | 0.3673469 | 0.3108108 | 1 | 0.2076125 | 0 | 0 | 0 | 0 | ... | 0 | 0 | 0 | 0 | 0 | 0 | 0 | 1 | 0 | 1 |\n",
       "| 100 | 0.1993007 | 0.3775510 | 0.2027027 | 1 | 0.2058824 | 0 | 0 | 0 | 0 | ... | 0 | 0 | 0 | 0 | 0 | 0 | 0 | 1 | 0 | 1 |\n",
       "\n"
      ],
      "text/plain": [
       "  RENTED_BIKE_COUNT TEMPERATURE HUMIDITY  WIND_SPEED VISIBILITY\n",
       "1 254               0.2202797   0.3775510 0.2972973  1         \n",
       "2 204               0.2150350   0.3877551 0.1081081  1         \n",
       "3 173               0.2062937   0.3979592 0.1351351  1         \n",
       "4 107               0.2027972   0.4081633 0.1216216  1         \n",
       "5  78               0.2062937   0.3673469 0.3108108  1         \n",
       "6 100               0.1993007   0.3775510 0.2027027  1         \n",
       "  DEW_POINT_TEMPERATURE SOLAR_RADIATION RAINFALL SNOWFALL 0 ... 6 7 8 9 AUTUMN\n",
       "1 0.2249135             0               0        0        1 ... 0 0 0 0 0     \n",
       "2 0.2249135             0               0        0        0 ... 0 0 0 0 0     \n",
       "3 0.2231834             0               0        0        0 ... 0 0 0 0 0     \n",
       "4 0.2249135             0               0        0        0 ... 0 0 0 0 0     \n",
       "5 0.2076125             0               0        0        0 ... 0 0 0 0 0     \n",
       "6 0.2058824             0               0        0        0 ... 0 0 0 0 0     \n",
       "  SPRING SUMMER WINTER HOLIDAY NO_HOLIDAY\n",
       "1 0      0      1      0       1         \n",
       "2 0      0      1      0       1         \n",
       "3 0      0      1      0       1         \n",
       "4 0      0      1      0       1         \n",
       "5 0      0      1      0       1         \n",
       "6 0      0      1      0       1         "
      ]
     },
     "metadata": {},
     "output_type": "display_data"
    }
   ],
   "source": [
    "head(bike_sharing_df)"
   ]
  },
  {
   "cell_type": "markdown",
   "id": "90ed4af4-271f-43f1-be5c-f3187bf5e4c4",
   "metadata": {},
   "source": [
    "# TASK: Split training and testing data\n"
   ]
  },
  {
   "cell_type": "markdown",
   "id": "781eb67a-c777-4dc7-a124-451294c8f407",
   "metadata": {},
   "source": [
    "First, we need to split the full dataset into training and testing datasets.\n",
    "\n",
    "The training dataset will be used for fitting regression models, and the testing dataset will be used to evaluate the trained models.\n"
   ]
  },
  {
   "cell_type": "markdown",
   "id": "7d00b533-22c8-4c02-af53-838420554ba5",
   "metadata": {},
   "source": [
    "_TODO:_ Use the `initial_split()`, `training()`, and `testing()` functions to generate a training dataset consisting of 75% of the original dataset, and a testing dataset using the remaining 25%. \n"
   ]
  },
  {
   "cell_type": "code",
   "execution_count": 6,
   "id": "7afe26ba-9153-4148-a38f-6a34723f1ccb",
   "metadata": {},
   "outputs": [],
   "source": [
    "# Use the `initial_split()`, `training()`, and `testing()` functions to split the dataset\n",
    "# With seed 1234\n",
    "set.seed(1234)\n",
    "\n",
    "# prop = 3/4\n",
    "bike_split <- initial_split(bike_sharing_df, prop = 0.75)\n",
    "\n",
    "# Create the training dataset\n",
    "bike_train <- training(bike_split)\n",
    "\n",
    "# Create the testing dataset\n",
    "bike_test <- testing(bike_split)"
   ]
  },
  {
   "cell_type": "markdown",
   "id": "4551afa1-4f98-49f8-9889-2560ffd73aef",
   "metadata": {},
   "source": [
    "# TASK: Build a linear regression model using weather variables only\n"
   ]
  },
  {
   "cell_type": "markdown",
   "id": "f6242df2-307b-4f4f-bb0c-59df08f03030",
   "metadata": {},
   "source": [
    "As you could imagine, weather conditions may affect people's bike renting decisions. For example, on a cold and rainy day, you may choose alternate transportation such as a bus or taxi.  While on a nice sunny day, you may want to rent a bike for a short-distance travel.\n"
   ]
  },
  {
   "cell_type": "markdown",
   "id": "e62296c1-4579-451b-b102-ec7b89de5915",
   "metadata": {},
   "source": [
    "Thus, can we predict a city's bike-sharing demand based on its local weather information? Let's try to build a regression model to do that.\n"
   ]
  },
  {
   "cell_type": "markdown",
   "id": "da36c42a-2a63-4cc7-bc78-3c47bbe6a6cb",
   "metadata": {},
   "source": [
    "_TODO:_ Build a linear regression model called `lm_model_weather` using the following variables:\n",
    "\n",
    "- `TEMPERATURE` - Temperature in Celsius\n",
    "- `HUMIDITY` - Unit is `%`\n",
    "- `WIND_SPEED` - Unit is `m/s`\n",
    "- `VISIBILITY` - Multiplied by 10m\n",
    "- `DEW_POINT_TEMPERATURE` - The temperature to which the air would have to cool down in order to reach saturation, unit is Celsius\n",
    "- `SOLAR_RADIATION` - MJ/m2\n",
    "- `RAINFALL` - mm\n",
    "- `SNOWFALL` - cm\n"
   ]
  },
  {
   "cell_type": "markdown",
   "id": "99406be2-fea8-43e0-9fbe-1629b2caf6c6",
   "metadata": {},
   "source": [
    "Define a linear regression model specification.\n"
   ]
  },
  {
   "cell_type": "markdown",
   "id": "6c873b68-220b-4e89-b6d9-2ffd47d2d96b",
   "metadata": {},
   "source": [
    "Fit a model with the response variable `RENTED_BIKE_COUNT` and predictor variables `TEMPERATURE + HUMIDITY + WIND_SPEED + VISIBILITY + DEW_POINT_TEMPERATURE + SOLAR_RADIATION + RAINFALL + SNOWFALL`\n"
   ]
  },
  {
   "cell_type": "code",
   "execution_count": 17,
   "id": "6d98b3c8-bbcc-47c9-81fc-d3f7dffc9804",
   "metadata": {},
   "outputs": [],
   "source": [
    "# Define the formula\n",
    "formula <- RENTED_BIKE_COUNT ~ TEMPERATURE + HUMIDITY + WIND_SPEED + VISIBILITY + DEW_POINT_TEMPERATURE + SOLAR_RADIATION + RAINFALL + SNOWFALL\n",
    "\n",
    "# Fit the linear regression model\n",
    "lm_model_weather <- lm(formula, data = bike_train)"
   ]
  },
  {
   "cell_type": "markdown",
   "id": "4eb2dcdc-70e1-45f1-a300-8f74dd9f632b",
   "metadata": {},
   "source": [
    "Print the fit summary for the `lm_model_weather` model.\n"
   ]
  },
  {
   "cell_type": "code",
   "execution_count": 18,
   "id": "44dc8f38-2261-40cc-bcc8-1e0c331ba684",
   "metadata": {},
   "outputs": [
    {
     "data": {
      "text/plain": [
       "   Min. 1st Qu.  Median    Mean 3rd Qu.    Max. \n",
       "-1011.2   404.4   734.8   734.9  1055.6  1893.4 "
      ]
     },
     "metadata": {},
     "output_type": "display_data"
    }
   ],
   "source": [
    "summary(lm_model_weather$fit)"
   ]
  },
  {
   "cell_type": "markdown",
   "id": "c6e4f27d-aff8-4347-8d21-35e81d93273b",
   "metadata": {},
   "source": [
    "You should see the model details such as formula, residuals, and coefficients.\n"
   ]
  },
  {
   "cell_type": "markdown",
   "id": "2282dfea-9d2f-42a5-946e-5069b6c355ba",
   "metadata": {},
   "source": [
    "# TASK: Build a linear regression model using all variables\n"
   ]
  },
  {
   "cell_type": "markdown",
   "id": "e02202fa-8d37-4df0-809a-d20836578f2c",
   "metadata": {},
   "source": [
    "In addition to weather, there could be other factors that may affect bike rental demand, such as the time of a day or if today is a holiday or not.\n"
   ]
  },
  {
   "cell_type": "markdown",
   "id": "aa3c9fa1-6d49-4046-9ceb-c04905093da4",
   "metadata": {},
   "source": [
    "Next, let's build a linear regression model using all variables (weather + date/time) in this task.\n"
   ]
  },
  {
   "cell_type": "markdown",
   "id": "7e95788f-3f85-45b9-9ba2-990b8a416902",
   "metadata": {},
   "source": [
    "_TODO:_ Build a linear regression model called `lm_model_all` using all variables `RENTED_BIKE_COUNT ~ .`\n"
   ]
  },
  {
   "cell_type": "code",
   "execution_count": 19,
   "id": "0c5ca5ab-5de4-49fc-8404-45393521ece3",
   "metadata": {},
   "outputs": [],
   "source": [
    "# Define the formula\n",
    "formula <- RENTED_BIKE_COUNT ~ .\n",
    "\n",
    "# Fit the linear regression model\n",
    "lm_model_all <- lm(formula, data = bike_train)"
   ]
  },
  {
   "cell_type": "markdown",
   "id": "e4f02811-3c2a-47b1-9373-94c9040835f6",
   "metadata": {},
   "source": [
    "Print the fit summary for `lm_model_all`.\n"
   ]
  },
  {
   "cell_type": "code",
   "execution_count": 20,
   "id": "1cbec832-4f67-4de5-ace2-f9bac55441ec",
   "metadata": {},
   "outputs": [
    {
     "data": {
      "text/plain": [
       "   Min. 1st Qu.  Median    Mean 3rd Qu.    Max. \n",
       "-1629.7   343.3   735.9   734.9  1127.7  2246.6 "
      ]
     },
     "metadata": {},
     "output_type": "display_data"
    }
   ],
   "source": [
    "summary(lm_model_all$fit)"
   ]
  },
  {
   "cell_type": "markdown",
   "id": "04e9a0b5-9d74-4ebd-8eed-14355ab0cf48",
   "metadata": {},
   "source": [
    "Now you have built two basic linear regression models with different predictor variables, let's evaluate which model has better performance,\n"
   ]
  },
  {
   "cell_type": "markdown",
   "id": "619f610e-c7b5-4fd5-bce6-ed81f12bddbf",
   "metadata": {},
   "source": [
    "# TASK: Model evaluation and identification of important variables\n"
   ]
  },
  {
   "cell_type": "markdown",
   "id": "55a9a8f3-8bf9-49d6-98a9-96501b3a2a45",
   "metadata": {},
   "source": [
    "Now that you have built two regression models, `lm_model_weather` and `lm_model_all`, with different predictor variables, you need to compare their performance to see which one is better.\n"
   ]
  },
  {
   "cell_type": "markdown",
   "id": "78fd4a09-30f2-499a-af77-b341f7d451a1",
   "metadata": {},
   "source": [
    "In this project, you will be asked to use very important metrics that are often used in Statistics to determine the performance of a model:\n",
    "\n",
    "1.  R^2 / R-squared \n",
    "2.  Root Mean Squared Error (RMSE)\n",
    "\n",
    "**R-squared**\n",
    "\n",
    "<p>R squared, also known as the coefficient of determination, is a measure to indicate how close the data is to the fitted regression line. The value of R-squared is the percentage of variation of the response variable (y) that is explained by a linear model.</p>\n",
    "\n",
    "**Root Mean Squared Error (RMSE)**\n",
    "$$\n",
    "RMSE = \\sqrt{MSE}\n",
    "$$\n",
    "\n",
    "As you know, the Mean Squared Error measures the average of the squares of errors, where 'error' is the difference between the actual value ($y$) and the estimated value ($ŷ$). \n",
    "Another metric that is related to MSE is **Root Mean Squared Error (RMSE)** and is simply the square root of MSE.\n"
   ]
  },
  {
   "cell_type": "markdown",
   "id": "fc2ce83c-bd25-4050-92f2-e15336e05273",
   "metadata": {},
   "source": [
    "We first need to test the `lm_model_weather` and `lm_model_all` models against the test dataset `test_data`, and generate `RENTED_BIKE_COUNT` prediction results.\n"
   ]
  },
  {
   "cell_type": "markdown",
   "id": "9c82e16e-3d5f-43df-be97-843b6027a813",
   "metadata": {},
   "source": [
    "_TODO:_ Make predictions on the testing dataset using both `lm_model_weather` and `lm_model_all` models\n"
   ]
  },
  {
   "cell_type": "code",
   "execution_count": 21,
   "id": "cc7a5e57-e809-41bc-a8c9-714a4ce35343",
   "metadata": {},
   "outputs": [
    {
     "name": "stderr",
     "output_type": "stream",
     "text": [
      "Warning message in predict.lm(lm_model_all, newdata = bike_test):\n",
      "\"prediction from a rank-deficient fit may be misleading\"\n"
     ]
    },
    {
     "name": "stdout",
     "output_type": "stream",
     "text": [
      "[1] \"predicted_rentals_weather\"\n"
     ]
    },
    {
     "data": {
      "text/plain": [
       "   Min. 1st Qu.  Median    Mean 3rd Qu.    Max. \n",
       " -327.0   394.0   699.0   722.5  1047.0  1782.5 "
      ]
     },
     "metadata": {},
     "output_type": "display_data"
    },
    {
     "name": "stdout",
     "output_type": "stream",
     "text": [
      "[1] \"predicted_rentals_all\"\n"
     ]
    },
    {
     "data": {
      "text/plain": [
       "   Min. 1st Qu.  Median    Mean 3rd Qu.    Max. \n",
       " -598.8   318.4   698.9   710.0  1088.6  2197.3 "
      ]
     },
     "metadata": {},
     "output_type": "display_data"
    }
   ],
   "source": [
    "# Use predict() function to generate test results for `lm_model_weather` and `lm_model_all`\n",
    "# and generate two test results dataframe with a truth column:\n",
    "\n",
    "# Make predictions using lm_model_weather\n",
    "bike_test$predicted_rentals_weather <- predict(lm_model_weather, newdata = bike_test)\n",
    "\n",
    "# Make predictions using lm_model_all\n",
    "bike_test$predicted_rentals_all <- predict(lm_model_all, newdata = bike_test)\n",
    "\n",
    "# test_results_weather for lm_model_weather model\n",
    "print(\"predicted_rentals_weather\")\n",
    "summary(bike_test$predicted_rentals_weather)\n",
    "# test_results_all for lm_model_all\n",
    "print(\"predicted_rentals_all\")\n",
    "summary(bike_test$predicted_rentals_all)"
   ]
  },
  {
   "cell_type": "markdown",
   "id": "818fabda-96db-470a-8090-97ec4e73ebdf",
   "metadata": {},
   "source": [
    "NOTE: if you happen to see a warning like : `prediction from a rank-deficient fit may be misleading`, it may be casued by collinearity in the predictor variables. Collinearity means that one predictor variable can be predicted from other predictor variables to some degree. For example, `RAINFALL` could be predicted by `HUMIDITY`.\n",
    "\n",
    "But dont worry, you will address `glmnet` models (Lasso and Elastic-Net Regularized Generalized Linear Models) instead of regular `regression` models to solve this issue and futher improve the model performance.\n"
   ]
  },
  {
   "cell_type": "markdown",
   "id": "f91115aa-fa9e-458b-b8fc-7df86eb5f398",
   "metadata": {},
   "source": [
    "Next, let's calculate and print the R-squared and RMSE for the two test results\n"
   ]
  },
  {
   "cell_type": "markdown",
   "id": "2942bb7d-6d38-41e7-b32f-161b842de225",
   "metadata": {},
   "source": [
    "_TODO:_ Use `rsq()` and `rmse()` functions to calculate R-squared and RMSE metrics for the two test results\n"
   ]
  },
  {
   "cell_type": "code",
   "execution_count": 34,
   "metadata": {},
   "outputs": [
    {
     "name": "stdout",
     "output_type": "stream",
     "text": [
      "[1] \"RSQ\"\n"
     ]
    },
    {
     "data": {
      "text/html": [
       "0.430291530599327"
      ],
      "text/latex": [
       "0.430291530599327"
      ],
      "text/markdown": [
       "0.430291530599327"
      ],
      "text/plain": [
       "[1] 0.4302915"
      ]
     },
     "metadata": {},
     "output_type": "display_data"
    },
    {
     "data": {
      "text/html": [
       "0.658911288667757"
      ],
      "text/latex": [
       "0.658911288667757"
      ],
      "text/markdown": [
       "0.658911288667757"
      ],
      "text/plain": [
       "[1] 0.6589113"
      ]
     },
     "metadata": {},
     "output_type": "display_data"
    }
   ],
   "source": [
    "print(\"RSQ\")\n",
    "\n",
    "# Calculate R-squared for lm_model_weather\n",
    "summary(lm_model_weather)$r.squared\n",
    "\n",
    "# Calculate R-squared for lm_model_all\n",
    "summary(lm_model_all)$r.squared"
   ]
  },
  {
   "cell_type": "code",
   "execution_count": 33,
   "metadata": {},
   "outputs": [
    {
     "name": "stdout",
     "output_type": "stream",
     "text": [
      "[1] \"RMSE\"\n"
     ]
    },
    {
     "data": {
      "text/html": [
       "474.624732062629"
      ],
      "text/latex": [
       "474.624732062629"
      ],
      "text/markdown": [
       "474.624732062629"
      ],
      "text/plain": [
       "[1] 474.6247"
      ]
     },
     "metadata": {},
     "output_type": "display_data"
    },
    {
     "data": {
      "text/html": [
       "364.423502923441"
      ],
      "text/latex": [
       "364.423502923441"
      ],
      "text/markdown": [
       "364.423502923441"
      ],
      "text/plain": [
       "[1] 364.4235"
      ]
     },
     "metadata": {},
     "output_type": "display_data"
    }
   ],
   "source": [
    "rmse <- function(actual, predicted) {\n",
    "  sqrt(mean((actual - predicted)^2))\n",
    "}\n",
    "\n",
    "print(\"RMSE\")\n",
    "\n",
    "# Calculate RMSE for lm_model_weather\n",
    "rmse(bike_test$RENTED_BIKE_COUNT, bike_test$predicted_rentals_weather)\n",
    "\n",
    "# Calculate RMSE for lm_model_all\n",
    "rmse(bike_test$RENTED_BIKE_COUNT, bike_test$predicted_rentals_all)"
   ]
  },
  {
   "cell_type": "markdown",
   "id": "ca1329df-07db-4cca-bcea-e4893f487e73",
   "metadata": {},
   "source": [
    "From these tables, you should find that the test results from `lm_model_all` are much better. It means that using both weather and datetime variables in the model generates better prediction results.\n"
   ]
  },
  {
   "cell_type": "markdown",
   "id": "95adb4f6-1b43-4e62-b45e-1b97c9f884be",
   "metadata": {},
   "source": [
    "Since `lm_model_all` has many predictor variables, let's check which predictor variables have larger coefficients. Variables with larger coefficients in the model means they attribute more in the prediction of `RENTED_BIKE_COUNT`. In addition, since all predictor variables are normalized to the same scale, 0 to 1, we thus can compare their coefficients directly.\n"
   ]
  },
  {
   "cell_type": "markdown",
   "id": "03a0fb46-01cc-4db0-bf47-128a759c5279",
   "metadata": {},
   "source": [
    "You could try building another regression model using the non-normalized `seoul_bike_sharing_converted.csv` dataset, and you would find that the coefficients are much different.\n"
   ]
  },
  {
   "cell_type": "markdown",
   "id": "a1f5214e-59d2-4cd7-9327-9f92b0ae4e05",
   "metadata": {},
   "source": [
    "First let's print all coefficients:\n"
   ]
  },
  {
   "cell_type": "code",
   "execution_count": 39,
   "id": "80fabbee-9d94-4fd5-bcdd-543341b3c695",
   "metadata": {},
   "outputs": [],
   "source": [
    "# Get the coefficient list from lm_model_all\n",
    "coef_list <- lm_model_all$coefficients"
   ]
  },
  {
   "cell_type": "markdown",
   "id": "60b4ccf1-87c6-4b85-a9ec-b4332598718a",
   "metadata": {},
   "source": [
    "hmm, it's not very clear to compare the coefficients from a long and unsorted list. Next, you need to sort and visualize them using a bar chart\n"
   ]
  },
  {
   "cell_type": "markdown",
   "id": "83def8e0-8b59-4721-a185-b489494f473b",
   "metadata": {},
   "source": [
    "_TODO:_ Sort the coefficient list in descending order and visualize the result using `ggplot` and `geom_bar` \n"
   ]
  },
  {
   "cell_type": "code",
   "execution_count": 56,
   "metadata": {},
   "outputs": [],
   "source": [
    "# Create a data frame with the coefficients and variable names\n",
    "coef_df <- data.frame(variable = names(lm_model_all$coefficients), \n",
    "                      coef = lm_model_all$coefficients)\n",
    "\n",
    "# Sort the data frame by coefficient values\n",
    "coef_df <- coef_df[order(coef_df$coef, decreasing = TRUE),]"
   ]
  },
  {
   "cell_type": "code",
   "execution_count": 58,
   "id": "0bc80b8e-e8c9-4df6-87f7-3e29c04145fc",
   "metadata": {},
   "outputs": [
    {
     "name": "stderr",
     "output_type": "stream",
     "text": [
      "Warning message:\n",
      "\"\u001b[1m\u001b[22mRemoved 3 rows containing missing values (`position_stack()`).\"\n"
     ]
    },
    {
     "data": {
      "image/png": "[encoded data removed]",
      "text/plain": [
       "plot without title"
      ]
     },
     "metadata": {
      "image/png": {
       "height": 420,
       "width": 420
      }
     },
     "output_type": "display_data"
    }
   ],
   "source": [
    "# Create the bar plot\n",
    "ggplot(data = coef_df, aes(x = variable, y = coef)) + \n",
    "  geom_bar(stat = \"identity\", fill = \"blue\") +\n",
    "  coord_flip() +\n",
    "  ggtitle(\"Linear Regression Coefficients\") +\n",
    "  xlab(\"Variable\") + ylab(\"Coefficient\")"
   ]
  },
  {
   "cell_type": "markdown",
   "id": "51d6eb4a-06ae-4fd9-8165-dbab040571d6",
   "metadata": {},
   "source": [
    "You should see a sorted coefficient bar chart like the following example: \n"
   ]
  },
  {
   "cell_type": "markdown",
   "id": "85a9cf96-9b2b-4eff-a894-0270da75dd70",
   "metadata": {},
   "source": [
    "<a href=\"https://cognitiveclass.ai/?utm_medium=Exinfluencer&utm_source=Exinfluencer&utm_content=000026UJ&utm_term=10006555&utm_id=NA-SkillsNetwork-Channel-SkillsNetworkCoursesIBMDeveloperSkillsNetworkRP0321ENSkillsNetwork878-2022-01-01\">\n",
    "    <img src=\"https://cf-courses-data.s3.us.cloud-object-storage.appdomain.cloud/IBMDeveloperSkillsNetwork-RP0321EN-SkillsNetwork/labs/module_4/images/coefficient_chart.png\" width=\"600\" align=\"center\">\n",
    "</a>\n"
   ]
  },
  {
   "cell_type": "markdown",
   "id": "de600de7-3f8c-4271-b9a2-62b84dda994f",
   "metadata": {},
   "source": [
    "Mark down these 'top-ranked variables by coefficient', which will be used for model refinments in the next labs.\n"
   ]
  },
  {
   "cell_type": "markdown",
   "id": "3a26da70-3ccc-412c-9374-22e75f80d238",
   "metadata": {},
   "source": [
    "Note that here the main reason we use absolute value is to easily identify important variables, i.e. variables with large magnitudes, no matter it's negative or positive. If we want to interprete the model then it's better to seperate the positive and negative coefficients.\n"
   ]
  },
  {
   "cell_type": "markdown",
   "id": "6fb37bc6-73f1-4b8e-a407-3ac02005d0cc",
   "metadata": {},
   "source": [
    "# Next Steps\n"
   ]
  },
  {
   "cell_type": "markdown",
   "id": "ad5686c8-7c51-4e4d-bdbf-9422ffca668e",
   "metadata": {},
   "source": [
    "Great! Now you have built a baseline linear regression model to predict hourly bike rent count, with reasonably good performance. In the next lab, you will be refining the baseline model to improve its performance.\n"
   ]
  },
  {
   "cell_type": "markdown",
   "id": "f427e7ae-0c62-48e9-b74b-24eda0f9c773",
   "metadata": {},
   "source": [
    "## Authors\n",
    "\n",
    "<a href=\"https://www.linkedin.com/in/yan-luo-96288783/?utm_medium=Exinfluencer&utm_source=Exinfluencer&utm_content=000026UJ&utm_term=10006555&utm_id=NA-SkillsNetwork-Channel-SkillsNetworkCoursesIBMDeveloperSkillsNetworkRP0321ENSkillsNetwork878-2022-01-01\" target=\"_blank\">Yan Luo</a>\n"
   ]
  },
  {
   "cell_type": "markdown",
   "id": "0377e7ab-4a66-4173-9644-f0ea1379e2b3",
   "metadata": {},
   "source": [
    "### Other Contributors\n",
    "\n",
    "Jeff Grossman\n"
   ]
  },
  {
   "cell_type": "markdown",
   "id": "04eed89b-87e9-4193-9b06-9ee869d1ac29",
   "metadata": {},
   "source": [
    "## Change Log\n",
    "\n",
    "| Date (YYYY-MM-DD) | Version | Changed By | Change Description           |\n",
    "| ----------------- | ------- | ---------- | ---------------------------- |\n",
    "| 2021-04-08        | 1.0     | Yan        | Initial version created      |\n",
    "|                   |         |            |                              |\n",
    "|                   |         |            |                              |\n",
    "\n",
    "## <h3 align=\"center\"> © IBM Corporation 2021. All rights reserved. <h3/>\n"
   ]
  }
 ],
 "metadata": {
  "kernelspec": {
   "display_name": "R",
   "language": "R",
   "name": "ir"
  },
  "language_info": {
   "codemirror_mode": "r",
   "file_extension": ".r",
   "mimetype": "text/x-r-source",
   "name": "R",
   "pygments_lexer": "r",
   "version": "4.2.2"
  }
 },
 "nbformat": 4,
 "nbformat_minor": 4
}
