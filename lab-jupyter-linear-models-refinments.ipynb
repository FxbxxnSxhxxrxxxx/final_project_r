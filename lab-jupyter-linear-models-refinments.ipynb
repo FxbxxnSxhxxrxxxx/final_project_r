{
 "cells": [
  {
   "cell_type": "markdown",
   "id": "c44a1bc5-7123-4145-b534-b3eea49ae5d4",
   "metadata": {},
   "source": [
    "<center>\n",
    "<img src=\"https://cf-courses-data.s3.us.cloud-object-storage.appdomain.cloud/IBMDeveloperSkillsNetwork-RP0321EN-SkillsNetwork/labs/module_1/images/SN_web_lightmode.png\" width=\"300\"> \n",
    "</center>\n"
   ]
  },
  {
   "cell_type": "markdown",
   "id": "3ed947d0-8c23-4d47-9d3f-520c5764e1cc",
   "metadata": {},
   "source": [
    "<h1>Refine the Baseline Regression Models</h1>\n",
    "\n",
    "Estimated time needed: **120** minutes\n"
   ]
  },
  {
   "cell_type": "markdown",
   "id": "ca05ec6e-671e-48fc-a99f-93d45672f25f",
   "metadata": {},
   "source": [
    "## Lab Overview:\n",
    "\n",
    "Now you have built a baseline regression model with some relatively good RMSE and R-squared reported values. However, we could still improve it by using methods like adding polynomial and interaction terms, regularization, and so on.\n",
    "\n",
    "In this lab, you will be asked to continue using `tidymodels` to improve the performance of baseline model:\n",
    "\n",
    "- **TASK: Add polynomial terms**\n",
    "- **TASK: Add interactions terms**\n",
    "- **TASK: Add regularizations terms**\n",
    "- **TASK: Experiment to search for improved models**\n",
    "\n",
    "\n",
    "Let's start!\n"
   ]
  },
  {
   "cell_type": "markdown",
   "id": "9d19e33b-2cbc-4402-92ab-5b888828dbbf",
   "metadata": {},
   "source": [
    "First install and import necessary libraries\n"
   ]
  },
  {
   "cell_type": "code",
   "execution_count": 1,
   "id": "2f43789d-2669-4b3a-a546-67698d017730",
   "metadata": {},
   "outputs": [
    {
     "name": "stderr",
     "output_type": "stream",
     "text": [
      "Warning message:\n",
      "\"package 'tidymodels' was built under R version 4.2.3\"\n",
      "── \u001b[1mAttaching packages\u001b[22m ────────────────────────────────────── tidymodels 1.0.0 ──\n",
      "\n",
      "\u001b[32m✔\u001b[39m \u001b[34mbroom       \u001b[39m 1.0.3     \u001b[32m✔\u001b[39m \u001b[34mrecipes     \u001b[39m 1.0.5\n",
      "\u001b[32m✔\u001b[39m \u001b[34mdials       \u001b[39m 1.1.0     \u001b[32m✔\u001b[39m \u001b[34mrsample     \u001b[39m 1.1.1\n",
      "\u001b[32m✔\u001b[39m \u001b[34mdplyr       \u001b[39m 1.1.0     \u001b[32m✔\u001b[39m \u001b[34mtibble      \u001b[39m 3.1.8\n",
      "\u001b[32m✔\u001b[39m \u001b[34mggplot2     \u001b[39m 3.4.1     \u001b[32m✔\u001b[39m \u001b[34mtidyr       \u001b[39m 1.3.0\n",
      "\u001b[32m✔\u001b[39m \u001b[34minfer       \u001b[39m 1.0.4     \u001b[32m✔\u001b[39m \u001b[34mtune        \u001b[39m 1.0.1\n",
      "\u001b[32m✔\u001b[39m \u001b[34mmodeldata   \u001b[39m 1.1.0     \u001b[32m✔\u001b[39m \u001b[34mworkflows   \u001b[39m 1.1.3\n",
      "\u001b[32m✔\u001b[39m \u001b[34mparsnip     \u001b[39m 1.0.4     \u001b[32m✔\u001b[39m \u001b[34mworkflowsets\u001b[39m 1.0.0\n",
      "\u001b[32m✔\u001b[39m \u001b[34mpurrr       \u001b[39m 1.0.1     \u001b[32m✔\u001b[39m \u001b[34myardstick   \u001b[39m 1.1.0\n",
      "\n",
      "── \u001b[1mConflicts\u001b[22m ───────────────────────────────────────── tidymodels_conflicts() ──\n",
      "\u001b[31m✖\u001b[39m \u001b[34mpurrr\u001b[39m::\u001b[32mdiscard()\u001b[39m masks \u001b[34mscales\u001b[39m::discard()\n",
      "\u001b[31m✖\u001b[39m \u001b[34mdplyr\u001b[39m::\u001b[32mfilter()\u001b[39m  masks \u001b[34mstats\u001b[39m::filter()\n",
      "\u001b[31m✖\u001b[39m \u001b[34mdplyr\u001b[39m::\u001b[32mlag()\u001b[39m     masks \u001b[34mstats\u001b[39m::lag()\n",
      "\u001b[31m✖\u001b[39m \u001b[34mrecipes\u001b[39m::\u001b[32mstep()\u001b[39m  masks \u001b[34mstats\u001b[39m::step()\n",
      "\u001b[34m•\u001b[39m Use \u001b[32mtidymodels_prefer()\u001b[39m to resolve common conflicts.\n",
      "\n",
      "── \u001b[1mAttaching core tidyverse packages\u001b[22m ──────────────────────── tidyverse 2.0.0 ──\n",
      "\u001b[32m✔\u001b[39m \u001b[34mforcats  \u001b[39m 1.0.0     \u001b[32m✔\u001b[39m \u001b[34mreadr    \u001b[39m 2.1.4\n",
      "\u001b[32m✔\u001b[39m \u001b[34mlubridate\u001b[39m 1.9.2     \u001b[32m✔\u001b[39m \u001b[34mstringr  \u001b[39m 1.5.0\n",
      "── \u001b[1mConflicts\u001b[22m ────────────────────────────────────────── tidyverse_conflicts() ──\n",
      "\u001b[31m✖\u001b[39m \u001b[34mreadr\u001b[39m::\u001b[32mcol_factor()\u001b[39m masks \u001b[34mscales\u001b[39m::col_factor()\n",
      "\u001b[31m✖\u001b[39m \u001b[34mpurrr\u001b[39m::\u001b[32mdiscard()\u001b[39m    masks \u001b[34mscales\u001b[39m::discard()\n",
      "\u001b[31m✖\u001b[39m \u001b[34mdplyr\u001b[39m::\u001b[32mfilter()\u001b[39m     masks \u001b[34mstats\u001b[39m::filter()\n",
      "\u001b[31m✖\u001b[39m \u001b[34mstringr\u001b[39m::\u001b[32mfixed()\u001b[39m    masks \u001b[34mrecipes\u001b[39m::fixed()\n",
      "\u001b[31m✖\u001b[39m \u001b[34mdplyr\u001b[39m::\u001b[32mlag()\u001b[39m        masks \u001b[34mstats\u001b[39m::lag()\n",
      "\u001b[31m✖\u001b[39m \u001b[34mreadr\u001b[39m::\u001b[32mspec()\u001b[39m       masks \u001b[34myardstick\u001b[39m::spec()\n",
      "\u001b[36mℹ\u001b[39m Use the conflicted package (\u001b[3m\u001b[34m<http://conflicted.r-lib.org/>\u001b[39m\u001b[23m) to force all conflicts to become errors\n"
     ]
    }
   ],
   "source": [
    "library(\"tidymodels\")\n",
    "library(\"tidyverse\")\n",
    "library(\"stringr\")"
   ]
  },
  {
   "cell_type": "markdown",
   "id": "4292af07-1b3a-437a-b17a-8bba2a7b0888",
   "metadata": {},
   "source": [
    "The processed Seoul bike sharing dataset `seoul_bike_sharing_converted_normalized.csv`,  includes the converted indicator variables, and the numerical variables have been normalized. \n",
    "Let's read it as a dataframe first:\n"
   ]
  },
  {
   "cell_type": "code",
   "execution_count": 2,
   "id": "045e916f-cf0d-4422-b651-3ccf51d77984",
   "metadata": {},
   "outputs": [
    {
     "data": {
      "text/plain": [
       "cols(\n",
       "  DATE = \u001b[31mcol_character()\u001b[39m,\n",
       "  RENTED_BIKE_COUNT = \u001b[32mcol_double()\u001b[39m,\n",
       "  TEMPERATURE = \u001b[32mcol_double()\u001b[39m,\n",
       "  HUMIDITY = \u001b[32mcol_double()\u001b[39m,\n",
       "  WIND_SPEED = \u001b[32mcol_double()\u001b[39m,\n",
       "  VISIBILITY = \u001b[32mcol_double()\u001b[39m,\n",
       "  DEW_POINT_TEMPERATURE = \u001b[32mcol_double()\u001b[39m,\n",
       "  SOLAR_RADIATION = \u001b[32mcol_double()\u001b[39m,\n",
       "  RAINFALL = \u001b[32mcol_double()\u001b[39m,\n",
       "  SNOWFALL = \u001b[32mcol_double()\u001b[39m,\n",
       "  FUNCTIONING_DAY = \u001b[31mcol_character()\u001b[39m,\n",
       "  `0` = \u001b[32mcol_double()\u001b[39m,\n",
       "  `1` = \u001b[32mcol_double()\u001b[39m,\n",
       "  `10` = \u001b[32mcol_double()\u001b[39m,\n",
       "  `11` = \u001b[32mcol_double()\u001b[39m,\n",
       "  `12` = \u001b[32mcol_double()\u001b[39m,\n",
       "  `13` = \u001b[32mcol_double()\u001b[39m,\n",
       "  `14` = \u001b[32mcol_double()\u001b[39m,\n",
       "  `15` = \u001b[32mcol_double()\u001b[39m,\n",
       "  `16` = \u001b[32mcol_double()\u001b[39m,\n",
       "  `17` = \u001b[32mcol_double()\u001b[39m,\n",
       "  `18` = \u001b[32mcol_double()\u001b[39m,\n",
       "  `19` = \u001b[32mcol_double()\u001b[39m,\n",
       "  `2` = \u001b[32mcol_double()\u001b[39m,\n",
       "  `20` = \u001b[32mcol_double()\u001b[39m,\n",
       "  `21` = \u001b[32mcol_double()\u001b[39m,\n",
       "  `22` = \u001b[32mcol_double()\u001b[39m,\n",
       "  `23` = \u001b[32mcol_double()\u001b[39m,\n",
       "  `3` = \u001b[32mcol_double()\u001b[39m,\n",
       "  `4` = \u001b[32mcol_double()\u001b[39m,\n",
       "  `5` = \u001b[32mcol_double()\u001b[39m,\n",
       "  `6` = \u001b[32mcol_double()\u001b[39m,\n",
       "  `7` = \u001b[32mcol_double()\u001b[39m,\n",
       "  `8` = \u001b[32mcol_double()\u001b[39m,\n",
       "  `9` = \u001b[32mcol_double()\u001b[39m,\n",
       "  AUTUMN = \u001b[32mcol_double()\u001b[39m,\n",
       "  SPRING = \u001b[32mcol_double()\u001b[39m,\n",
       "  SUMMER = \u001b[32mcol_double()\u001b[39m,\n",
       "  WINTER = \u001b[32mcol_double()\u001b[39m,\n",
       "  HOLIDAY = \u001b[32mcol_double()\u001b[39m,\n",
       "  NO_HOLIDAY = \u001b[32mcol_double()\u001b[39m\n",
       ")"
      ]
     },
     "metadata": {},
     "output_type": "display_data"
    }
   ],
   "source": [
    "# Dataset URL\n",
    "dataset_url <- \"seoul_bike_sharing_converted_normalized.csv\"\n",
    "bike_sharing_df <- read_csv(dataset_url, show_col_types = FALSE)\n",
    "spec(bike_sharing_df)"
   ]
  },
  {
   "cell_type": "markdown",
   "id": "54391a99-74a9-49d5-9ce6-2f00bbd2ae8c",
   "metadata": {},
   "source": [
    "We won't be using the `DATE` column, because 'as is', it basically acts like an data entry index. (However, given more time, we could use the `DATE` colum to create a 'day of week' or 'isWeekend' column, which we might expect has an affect on preferred bike rental times.) We also do not need the `FUNCTIONAL DAY` column because it only has one distinct value remaining (`YES`) after missing value processing.\n"
   ]
  },
  {
   "cell_type": "code",
   "execution_count": 3,
   "id": "c1f84beb-40fc-4c98-a77a-bfad329c56ed",
   "metadata": {},
   "outputs": [],
   "source": [
    "bike_sharing_df <- bike_sharing_df %>% \n",
    "                   select(-DATE, -FUNCTIONING_DAY)"
   ]
  },
  {
   "cell_type": "markdown",
   "id": "10b4ce50-37e8-4b95-a219-c694eba889aa",
   "metadata": {},
   "source": [
    "Define a linear regression model specification.\n"
   ]
  },
  {
   "cell_type": "code",
   "execution_count": 4,
   "id": "78980d6c-275c-4e67-afa2-0555afbaf3bc",
   "metadata": {},
   "outputs": [],
   "source": [
    "lm_spec <- linear_reg() %>%\n",
    "  set_engine(\"lm\") %>% \n",
    "  set_mode(\"regression\")"
   ]
  },
  {
   "cell_type": "markdown",
   "id": "458cf98e-a629-4e84-ad57-1b70e94053a7",
   "metadata": {},
   "source": [
    "Split the data into training and testing datasets.\n"
   ]
  },
  {
   "cell_type": "code",
   "execution_count": 5,
   "id": "8530c7ff-aa6a-41d0-8d7b-914d36e5f791",
   "metadata": {},
   "outputs": [],
   "source": [
    "set.seed(1234)\n",
    "data_split <- initial_split(bike_sharing_df, prop = 4/5)\n",
    "train_data <- training(data_split)\n",
    "test_data <- testing(data_split)"
   ]
  },
  {
   "cell_type": "markdown",
   "id": "5f85bbe8-941d-4491-8a14-e65494a6ce24",
   "metadata": {},
   "source": [
    "Now we are ready to refine the previous baseline regression model.\n"
   ]
  },
  {
   "cell_type": "markdown",
   "id": "fffd4d80-9655-4fab-9529-89c8d698f344",
   "metadata": {},
   "source": [
    "# TASK: Add polynomial terms\n"
   ]
  },
  {
   "cell_type": "markdown",
   "id": "23a3972b-f05c-4ad0-a328-1ee718f0c17a",
   "metadata": {},
   "source": [
    "Linear regression models are the most suitable models to capture the linear correlations among variables. However, in real world data, many relationships may be non-linear.\n"
   ]
  },
  {
   "cell_type": "markdown",
   "id": "97b30176-0a9f-49a9-bbf7-56b88778a258",
   "metadata": {},
   "source": [
    "For example, the correlation between `RENTED_BIKE_COUNT` and `TEMPERATURE` does not look like linear:\n"
   ]
  },
  {
   "cell_type": "code",
   "execution_count": 6,
   "id": "a5e39ab7-c364-41aa-b658-f97232ded363",
   "metadata": {},
   "outputs": [
    {
     "data": {
      "image/png": "[encoded data removed]",
      "text/plain": [
       "plot without title"
      ]
     },
     "metadata": {
      "image/png": {
       "height": 420,
       "width": 420
      }
     },
     "output_type": "display_data"
    }
   ],
   "source": [
    "ggplot(data = train_data, aes(RENTED_BIKE_COUNT, TEMPERATURE)) + \n",
    "    geom_point() "
   ]
  },
  {
   "cell_type": "raw",
   "id": "c1e4d836-d7b7-46af-916b-1e59e5310cab",
   "metadata": {},
   "source": [
    "One solution to handle such nonlinearity is using polynomial regression by adding polynomial terms. As shown before, higher order polynomials are better than the first order polynomial.  "
   ]
  },
  {
   "cell_type": "code",
   "execution_count": 7,
   "id": "946824d2-95de-4299-a2dd-dfe7f0b76ca4",
   "metadata": {},
   "outputs": [
    {
     "data": {
      "image/png": "[encoded data removed]",
      "text/plain": [
       "plot without title"
      ]
     },
     "metadata": {
      "image/png": {
       "height": 420,
       "width": 420
      }
     },
     "output_type": "display_data"
    }
   ],
   "source": [
    "# Plot the higher order polynomial fits\n",
    "ggplot(data=train_data, aes(RENTED_BIKE_COUNT, TEMPERATURE)) + \n",
    "    geom_point() + \n",
    "    geom_smooth(method = \"lm\", formula = y ~ x, color=\"red\") + \n",
    "    geom_smooth(method = \"lm\", formula = y ~ poly(x, 2), color=\"yellow\") + \n",
    "    geom_smooth(method = \"lm\", formula = y ~ poly(x, 4), color=\"green\") + \n",
    "    geom_smooth(method = \"lm\", formula = y ~ poly(x, 6), color=\"blue\")"
   ]
  },
  {
   "cell_type": "markdown",
   "id": "a4d0bcec-a704-4484-8cda-16745bb38360",
   "metadata": {},
   "source": [
    "OK, let's add some higher order polynomials of important variables to the regression models\n"
   ]
  },
  {
   "cell_type": "markdown",
   "id": "f5c65791-63a2-4d60-b9ac-1d617a69a7f5",
   "metadata": {},
   "source": [
    "_TODO:_ Fit a linear regression model `lm_poly` with higher order polynomial terms on the important variables (larger coefficients) found in the baseline model\n"
   ]
  },
  {
   "cell_type": "code",
   "execution_count": 8,
   "id": "ff193589-c72d-4f13-9685-338d86329b30",
   "metadata": {},
   "outputs": [],
   "source": [
    "# Fit a linear model with higher order polynomial on some important variables \n",
    "\n",
    "#HINT: Use ploy function to build polynomial terms, lm_poly <- RENTED_BIKE_COUNT ~ poly(TEMPERATURE, 6) + poly(HUMIDITY, 4) .....\n",
    "lm_poly <- lm(RENTED_BIKE_COUNT ~ poly(TEMPERATURE, 6) + poly(HUMIDITY, 4), data = train_data)"
   ]
  },
  {
   "cell_type": "code",
   "execution_count": 9,
   "id": "884762e9-ff77-429f-a24f-2e6a62640bb0",
   "metadata": {},
   "outputs": [
    {
     "data": {
      "text/plain": [
       "   Min. 1st Qu.  Median    Mean 3rd Qu.    Max. \n",
       " -528.7   358.8   756.0   734.9  1137.3  1455.5 "
      ]
     },
     "metadata": {},
     "output_type": "display_data"
    }
   ],
   "source": [
    "# Print model summary\n",
    "summary(lm_poly$fit)"
   ]
  },
  {
   "cell_type": "markdown",
   "id": "d7da2fdc-a84a-4c4e-93af-2cece98a7860",
   "metadata": {},
   "source": [
    "_TODO:_ Make predictions on test dataset using the `lm_poly` models\n"
   ]
  },
  {
   "cell_type": "code",
   "execution_count": 10,
   "id": "9d6d9945-2887-4306-80a4-c58652a6e821",
   "metadata": {},
   "outputs": [],
   "source": [
    "# Use predict() function to generate test results for `lm_poly`\n",
    "lm_poly_pred <- predict(lm_poly, test_data)"
   ]
  },
  {
   "cell_type": "markdown",
   "id": "991efc59-4ecf-4aea-af81-96547138583d",
   "metadata": {},
   "source": [
    "Another minor improvement we could do here is to convert all negative prediction results to zero, because we can not have negative rented bike counts\n"
   ]
  },
  {
   "cell_type": "code",
   "execution_count": 11,
   "id": "33dacd50-ec36-479a-ae2d-917cdd6d3d75",
   "metadata": {},
   "outputs": [],
   "source": [
    "lm_poly_pred <- ifelse(lm_poly_pred < 0, 0, lm_poly_pred)"
   ]
  },
  {
   "cell_type": "markdown",
   "id": "1f1c4472-c25c-4e98-9119-7d45da6a439d",
   "metadata": {},
   "source": [
    "Now, calculate R-squared and RMSE for the test results generated by `lm_ploy` model\n"
   ]
  },
  {
   "cell_type": "code",
   "execution_count": 12,
   "metadata": {},
   "outputs": [],
   "source": [
    "# convert dataframes into vectors\n",
    "pred_vec_lm_poly <- as.vector(t(lm_poly_pred))\n",
    "truth_test_data <- as.vector(t(test_data$RENTED_BIKE_COUNT))"
   ]
  },
  {
   "cell_type": "code",
   "execution_count": 13,
   "metadata": {},
   "outputs": [
    {
     "name": "stdout",
     "output_type": "stream",
     "text": [
      "R-squared:  0.49 \n",
      "RMSE:  452.407 \n"
     ]
    }
   ],
   "source": [
    "# Calculate performance metrics\n",
    "rsq <- (cor(pred_vec_lm_poly, truth_test_data))^2\n",
    "rmse <- sqrt(mean((pred_vec_lm_poly - truth_test_data)^2))\n",
    "# Report performance metrics\n",
    "cat(\"R-squared: \", round(rsq, 3), \"\\n\")\n",
    "cat(\"RMSE: \", round(rmse, 3), \"\\n\")"
   ]
  },
  {
   "cell_type": "markdown",
   "id": "77e4370a-7b11-4b5e-91db-67a2be19da90",
   "metadata": {},
   "source": [
    "If you include all variables, and additionally include some of the more important ones as higher order poly terms, then you should notice improved  `R-squared` and `RMSE` values.\n"
   ]
  },
  {
   "cell_type": "markdown",
   "id": "136b887e-d14c-4c39-9260-29789b7fd62b",
   "metadata": {},
   "source": [
    "# TASK: Add interaction terms\n"
   ]
  },
  {
   "cell_type": "markdown",
   "id": "a0e47fa6-dbb3-4d8d-82aa-4267fe5e824f",
   "metadata": {},
   "source": [
    "In real-world scenarios, in addition to non-linear relationships between response variables and predictor variables, you may also encounter relationships among variables called `interaction effects`.\n",
    "\n",
    "For example, the effect of predictor variable `TEMPERATURE` on `RENTED_BIKE_COUNT` may also depend on other variables such as `HUMIDITY`, `RAINFALL`, or both (they `interact`) and the effect of `SEASON` on `RENTED_BIKE_COUNT` may also depend on `HOLIDAY`, `HOUR`, or both.\n",
    "\n",
    "To capture such interaction effects, we could add some interaction terms such as `RAINFALL*HUMIDITY` to the regression model, similar to what we did with polynominal terms. In this task, you will explore and conduct some experiments to search for interaction terms which will improve the model performance.\n"
   ]
  },
  {
   "cell_type": "markdown",
   "id": "ba462663-85fb-4e5f-b7d8-812076020e65",
   "metadata": {},
   "source": [
    "_TODO:_ Try adding some interaction terms to the previous polynomial models.\n"
   ]
  },
  {
   "cell_type": "code",
   "execution_count": 14,
   "id": "c7b55328-acd5-4bba-bd5a-4d57c2eda503",
   "metadata": {},
   "outputs": [],
   "source": [
    "# Add interaction terms to the poly regression built in previous step\n",
    "\n",
    "# HINT: You could use `*` operator to create interaction terms such as HUMIDITY*TEMPERATURE and make the formula look like:\n",
    "# RENTED_BIKE_COUNT ~ RAINFALL*HUMIDITY ...\n",
    "# Fit a polynomial regression model with interaction terms\n",
    "lm_poly_interact <- lm(RENTED_BIKE_COUNT ~ poly(TEMPERATURE, 6) * HOLIDAY +\n",
    "                          poly(HUMIDITY, 4) * RAINFALL, data = train_data)"
   ]
  },
  {
   "cell_type": "code",
   "execution_count": 15,
   "id": "8621df7c-f318-4c38-8ac2-4bb2fe1728f2",
   "metadata": {},
   "outputs": [
    {
     "data": {
      "text/plain": [
       "\n",
       "Call:\n",
       "lm(formula = RENTED_BIKE_COUNT ~ poly(TEMPERATURE, 6) * HOLIDAY + \n",
       "    poly(HUMIDITY, 4) * RAINFALL, data = train_data)\n",
       "\n",
       "Residuals:\n",
       "     Min       1Q   Median       3Q      Max \n",
       "-1250.32  -272.57   -65.22   190.60  2227.49 \n",
       "\n",
       "Coefficients:\n",
       "                                Estimate Std. Error t value Pr(>|t|)    \n",
       "(Intercept)                    7.480e+02  5.805e+00 128.856  < 2e-16 ***\n",
       "poly(TEMPERATURE, 6)1          3.212e+04  4.793e+02  67.009  < 2e-16 ***\n",
       "poly(TEMPERATURE, 6)2         -6.767e+03  4.840e+02 -13.983  < 2e-16 ***\n",
       "poly(TEMPERATURE, 6)3         -9.510e+03  4.724e+02 -20.131  < 2e-16 ***\n",
       "poly(TEMPERATURE, 6)4         -2.773e+03  4.707e+02  -5.892 4.01e-09 ***\n",
       "poly(TEMPERATURE, 6)5         -1.616e+02  4.727e+02  -0.342 0.732514    \n",
       "poly(TEMPERATURE, 6)6          6.682e+02  4.732e+02   1.412 0.157992    \n",
       "HOLIDAY                        9.583e+01  9.668e+01   0.991 0.321579    \n",
       "poly(HUMIDITY, 4)1            -1.743e+04  5.010e+02 -34.782  < 2e-16 ***\n",
       "poly(HUMIDITY, 4)2            -9.665e+03  4.917e+02 -19.654  < 2e-16 ***\n",
       "poly(HUMIDITY, 4)3            -3.503e+02  4.845e+02  -0.723 0.469730    \n",
       "poly(HUMIDITY, 4)4            -1.804e+03  4.778e+02  -3.775 0.000161 ***\n",
       "RAINFALL                      -6.499e+04  4.775e+04  -1.361 0.173593    \n",
       "poly(TEMPERATURE, 6)1:HOLIDAY -3.996e+04  1.608e+04  -2.485 0.012971 *  \n",
       "poly(TEMPERATURE, 6)2:HOLIDAY  6.771e+04  2.216e+04   3.055 0.002256 ** \n",
       "poly(TEMPERATURE, 6)3:HOLIDAY -7.819e+04  2.444e+04  -3.200 0.001381 ** \n",
       "poly(TEMPERATURE, 6)4:HOLIDAY  5.755e+04  2.036e+04   2.826 0.004729 ** \n",
       "poly(TEMPERATURE, 6)5:HOLIDAY -4.919e+04  1.314e+04  -3.744 0.000183 ***\n",
       "poly(TEMPERATURE, 6)6:HOLIDAY  3.622e+04  7.353e+03   4.926 8.61e-07 ***\n",
       "poly(HUMIDITY, 4)1:RAINFALL    2.711e+06  5.767e+06   0.470 0.638333    \n",
       "poly(HUMIDITY, 4)2:RAINFALL    1.923e+06  5.645e+06   0.341 0.733350    \n",
       "poly(HUMIDITY, 4)3:RAINFALL   -2.672e+06  3.440e+06  -0.777 0.437426    \n",
       "poly(HUMIDITY, 4)4:RAINFALL    7.966e+05  8.932e+05   0.892 0.372494    \n",
       "---\n",
       "Signif. codes:  0 '***' 0.001 '**' 0.01 '*' 0.05 '.' 0.1 ' ' 1\n",
       "\n",
       "Residual standard error: 459.5 on 6749 degrees of freedom\n",
       "Multiple R-squared:  0.4934,\tAdjusted R-squared:  0.4918 \n",
       "F-statistic: 298.8 on 22 and 6749 DF,  p-value: < 2.2e-16\n"
      ]
     },
     "metadata": {},
     "output_type": "display_data"
    }
   ],
   "source": [
    "# Print model summary\n",
    "summary(lm_poly_interact)"
   ]
  },
  {
   "cell_type": "code",
   "execution_count": 16,
   "metadata": {},
   "outputs": [],
   "source": [
    "# Generate predictions on the test data\n",
    "lm_poly_interact_pred <- predict(lm_poly_interact, test_data)\n",
    "# convert dataframe into vector\n",
    "pred_vec_lm_poly_interact <- as.vector(t(lm_poly_interact_pred))"
   ]
  },
  {
   "cell_type": "code",
   "execution_count": 17,
   "metadata": {},
   "outputs": [
    {
     "name": "stdout",
     "output_type": "stream",
     "text": [
      "R-squared:  0.48 \n",
      "RMSE:  454.92 \n"
     ]
    }
   ],
   "source": [
    "# Calculate performance metrics\n",
    "rsq <- (cor(pred_vec_lm_poly_interact, test_data$RENTED_BIKE_COUNT))^2\n",
    "rmse <- sqrt(mean((pred_vec_lm_poly_interact - test_data$RENTED_BIKE_COUNT)^2))\n",
    "# Report performance metrics\n",
    "cat(\"R-squared: \", round(rsq, 2), \"\\n\")\n",
    "cat(\"RMSE: \", round(rmse, 2), \"\\n\")"
   ]
  },
  {
   "cell_type": "markdown",
   "id": "51af2e31-8790-4107-9d0c-8a4096bcacc7",
   "metadata": {},
   "source": [
    "# TASK: Add regularization\n"
   ]
  },
  {
   "cell_type": "markdown",
   "id": "f936ab6f-e981-4a15-87a9-82489e2658c5",
   "metadata": {},
   "source": [
    "In previous tasks, you were asked to add polynominal and interaction terms to the model, aiming to capture nonlinearity and interaction effects between the predictor variables. Hopefully, your updated models have better R-squared and RMSE values.\n",
    "\n",
    "However, adding these terms makes your model more complicated, more difficult to explain, and more likely to suffer from overfitting. To overcome these issues, one solution is to add regularization terms to your models.\n"
   ]
  },
  {
   "cell_type": "markdown",
   "id": "28dce7a1-3e40-4c42-bed4-50b2cc9cf6c9",
   "metadata": {},
   "source": [
    "When building the baseline model, we used the basic `lm` engine. In this task, you will use a more advanced and generalized `glmnet` engine. It provides a generalized linear model with Lasso, Ridge, and Elastic Net regularizations.\n",
    "\n",
    "In general, using `glmnet` can enhance your models in the following ways:\n",
    "- Address overfitting issues by shrinking the coefficients\n",
    "- Address predictor variable colinearity by selecting only one variable from each group of colinear variables (by shrinking their coefficients to zero)\n",
    "- Make your models more interpretable due to simplification (fewer variables in the outcome models)\n"
   ]
  },
  {
   "cell_type": "markdown",
   "id": "33b1b460-adf4-4988-9d87-46dc3531b45e",
   "metadata": {},
   "source": [
    "Now, let's switch our regression engine to `glmnet`\n"
   ]
  },
  {
   "cell_type": "markdown",
   "id": "5a1652da-095f-429c-b731-72e5d37205a8",
   "metadata": {},
   "source": [
    "_TODO:_ Define a linear regression model specification `glmnet_spec` using `glmnet` engine\n"
   ]
  },
  {
   "cell_type": "code",
   "execution_count": 18,
   "id": "7fd4db42-003a-436e-9060-383b24fa7e58",
   "metadata": {},
   "outputs": [],
   "source": [
    "# HINT: Use linear_reg() function with two parameters: penalty and mixture\n",
    "# - penalty controls the intensity of model regularization\n",
    "# - mixture controls the tradeoff between L1 and L2 regularizations\n",
    "\n",
    "# You could manually try different parameter combinations or use grid search to find optimal combinations\n",
    "glmnet_spec <- linear_reg(penalty = 0.0, mixture = 0) %>% \n",
    "  set_engine(\"glmnet\")"
   ]
  },
  {
   "cell_type": "markdown",
   "id": "03efbb99-de5b-4695-b46f-c83ca842a9a8",
   "metadata": {},
   "source": [
    "Fit a glmnet model called  `lm_glmnet` using the `fit()` function. For the formula part, keep the polynominal and interaction terms you used in the previous task.\n"
   ]
  },
  {
   "cell_type": "code",
   "execution_count": 19,
   "id": "231dc326-ec99-4cb4-92f4-3f5a57f1be15",
   "metadata": {},
   "outputs": [
    {
     "name": "stderr",
     "output_type": "stream",
     "text": [
      "Installing package into 'C:/Users/fabia/AppData/Local/R/win-library/4.2'\n",
      "(as 'lib' is unspecified)\n",
      "\n"
     ]
    },
    {
     "name": "stdout",
     "output_type": "stream",
     "text": [
      "package 'glmnet' successfully unpacked and MD5 sums checked\n"
     ]
    },
    {
     "name": "stderr",
     "output_type": "stream",
     "text": [
      "Warning message:\n",
      "\"cannot remove prior installation of package 'glmnet'\"\n",
      "Warning message in file.copy(savedcopy, lib, recursive = TRUE):\n",
      "\"problem copying C:\\Users\\fabia\\AppData\\Local\\R\\win-library\\4.2\\00LOCK\\glmnet\\libs\\x64\\glmnet.dll to C:\\Users\\fabia\\AppData\\Local\\R\\win-library\\4.2\\glmnet\\libs\\x64\\glmnet.dll: Permission denied\"\n",
      "Warning message:\n",
      "\"restored 'glmnet'\"\n"
     ]
    },
    {
     "name": "stdout",
     "output_type": "stream",
     "text": [
      "\n",
      "The downloaded binary packages are in\n",
      "\tC:\\Users\\fabia\\AppData\\Local\\Temp\\RtmpKMplqh\\downloaded_packages\n"
     ]
    },
    {
     "name": "stderr",
     "output_type": "stream",
     "text": [
      "Warning message:\n",
      "\"package 'glmnet' was built under R version 4.2.3\"\n",
      "Loading required package: Matrix\n",
      "\n",
      "\n",
      "Attaching package: 'Matrix'\n",
      "\n",
      "\n",
      "The following objects are masked from 'package:tidyr':\n",
      "\n",
      "    expand, pack, unpack\n",
      "\n",
      "\n",
      "Loaded glmnet 4.1-7\n",
      "\n"
     ]
    }
   ],
   "source": [
    "install.packages(\"glmnet\")\n",
    "library(\"glmnet\")"
   ]
  },
  {
   "cell_type": "code",
   "execution_count": 20,
   "id": "dcd5a29e-b943-4e66-a2f5-cc98687ba945",
   "metadata": {},
   "outputs": [],
   "source": [
    "# Specify formula\n",
    "formula <- RENTED_BIKE_COUNT ~ poly(RAINFALL, 2) * poly(HUMIDITY, 2)\n",
    "# Fit glmnet model\n",
    "glmnet_fit <- fit(glmnet_spec, formula, data = train_data)"
   ]
  },
  {
   "cell_type": "code",
   "execution_count": 21,
   "metadata": {},
   "outputs": [],
   "source": [
    "# Generate predictions on the test data\n",
    "glmnet_pred <- predict(glmnet_fit, test_data)\n",
    "# convert dataframe into vector\n",
    "pred_vec_glmnet <- as.vector(t(glmnet_pred))"
   ]
  },
  {
   "cell_type": "code",
   "execution_count": 22,
   "id": "778f1c8c-00f9-4f15-91a0-b9ae14099558",
   "metadata": {},
   "outputs": [
    {
     "name": "stdout",
     "output_type": "stream",
     "text": [
      "R-squared:  0.09 \n",
      "RMSE:  605.73 \n"
     ]
    }
   ],
   "source": [
    "# Calculate performance metrics\n",
    "rsq <- (cor(pred_vec_glmnet, test_data$RENTED_BIKE_COUNT))^2\n",
    "rmse <- sqrt(mean((pred_vec_glmnet - test_data$RENTED_BIKE_COUNT)^2))\n",
    "# Report performance metrics\n",
    "cat(\"R-squared: \", round(rsq, 2), \"\\n\")\n",
    "cat(\"RMSE: \", round(rmse, 2), \"\\n\")"
   ]
  },
  {
   "cell_type": "markdown",
   "id": "294dd5f5-ae0b-4318-9cd1-a0a095ecc30c",
   "metadata": {},
   "source": [
    "# TASK: Experiment to search for improved models\n"
   ]
  },
  {
   "cell_type": "markdown",
   "id": "7ab717b8-4c29-4c09-a604-bd2db0a11d7c",
   "metadata": {},
   "source": [
    "Now you understand some of the methods that you can use to try to improve your models.\n"
   ]
  },
  {
   "cell_type": "markdown",
   "id": "756882c9-f0cd-48bc-a9fe-6bb0fd689887",
   "metadata": {},
   "source": [
    "_TODO:_ Experiment by building and testing at least five different models. For each of your experiments, include polynomial terms, interaction terms, and one of the three regularizations we introduced.\n"
   ]
  },
  {
   "cell_type": "code",
   "execution_count": 23,
   "metadata": {},
   "outputs": [
    {
     "data": {
      "text/html": [
       "<style>\n",
       ".list-inline {list-style: none; margin:0; padding: 0}\n",
       ".list-inline>li {display: inline-block}\n",
       ".list-inline>li:not(:last-child)::after {content: \"\\00b7\"; padding: 0 .5ex}\n",
       "</style>\n",
       "<ol class=list-inline><li>'RENTED_BIKE_COUNT'</li><li>'TEMPERATURE'</li><li>'HUMIDITY'</li><li>'WIND_SPEED'</li><li>'VISIBILITY'</li><li>'DEW_POINT_TEMPERATURE'</li><li>'SOLAR_RADIATION'</li><li>'RAINFALL'</li><li>'SNOWFALL'</li><li>'0'</li><li>'1'</li><li>'10'</li><li>'11'</li><li>'12'</li><li>'13'</li><li>'14'</li><li>'15'</li><li>'16'</li><li>'17'</li><li>'18'</li><li>'19'</li><li>'2'</li><li>'20'</li><li>'21'</li><li>'22'</li><li>'23'</li><li>'3'</li><li>'4'</li><li>'5'</li><li>'6'</li><li>'7'</li><li>'8'</li><li>'9'</li><li>'AUTUMN'</li><li>'SPRING'</li><li>'SUMMER'</li><li>'WINTER'</li><li>'HOLIDAY'</li><li>'NO_HOLIDAY'</li></ol>\n"
      ],
      "text/latex": [
       "\\begin{enumerate*}\n",
       "\\item 'RENTED\\_BIKE\\_COUNT'\n",
       "\\item 'TEMPERATURE'\n",
       "\\item 'HUMIDITY'\n",
       "\\item 'WIND\\_SPEED'\n",
       "\\item 'VISIBILITY'\n",
       "\\item 'DEW\\_POINT\\_TEMPERATURE'\n",
       "\\item 'SOLAR\\_RADIATION'\n",
       "\\item 'RAINFALL'\n",
       "\\item 'SNOWFALL'\n",
       "\\item '0'\n",
       "\\item '1'\n",
       "\\item '10'\n",
       "\\item '11'\n",
       "\\item '12'\n",
       "\\item '13'\n",
       "\\item '14'\n",
       "\\item '15'\n",
       "\\item '16'\n",
       "\\item '17'\n",
       "\\item '18'\n",
       "\\item '19'\n",
       "\\item '2'\n",
       "\\item '20'\n",
       "\\item '21'\n",
       "\\item '22'\n",
       "\\item '23'\n",
       "\\item '3'\n",
       "\\item '4'\n",
       "\\item '5'\n",
       "\\item '6'\n",
       "\\item '7'\n",
       "\\item '8'\n",
       "\\item '9'\n",
       "\\item 'AUTUMN'\n",
       "\\item 'SPRING'\n",
       "\\item 'SUMMER'\n",
       "\\item 'WINTER'\n",
       "\\item 'HOLIDAY'\n",
       "\\item 'NO\\_HOLIDAY'\n",
       "\\end{enumerate*}\n"
      ],
      "text/markdown": [
       "1. 'RENTED_BIKE_COUNT'\n",
       "2. 'TEMPERATURE'\n",
       "3. 'HUMIDITY'\n",
       "4. 'WIND_SPEED'\n",
       "5. 'VISIBILITY'\n",
       "6. 'DEW_POINT_TEMPERATURE'\n",
       "7. 'SOLAR_RADIATION'\n",
       "8. 'RAINFALL'\n",
       "9. 'SNOWFALL'\n",
       "10. '0'\n",
       "11. '1'\n",
       "12. '10'\n",
       "13. '11'\n",
       "14. '12'\n",
       "15. '13'\n",
       "16. '14'\n",
       "17. '15'\n",
       "18. '16'\n",
       "19. '17'\n",
       "20. '18'\n",
       "21. '19'\n",
       "22. '2'\n",
       "23. '20'\n",
       "24. '21'\n",
       "25. '22'\n",
       "26. '23'\n",
       "27. '3'\n",
       "28. '4'\n",
       "29. '5'\n",
       "30. '6'\n",
       "31. '7'\n",
       "32. '8'\n",
       "33. '9'\n",
       "34. 'AUTUMN'\n",
       "35. 'SPRING'\n",
       "36. 'SUMMER'\n",
       "37. 'WINTER'\n",
       "38. 'HOLIDAY'\n",
       "39. 'NO_HOLIDAY'\n",
       "\n",
       "\n"
      ],
      "text/plain": [
       " [1] \"RENTED_BIKE_COUNT\"     \"TEMPERATURE\"           \"HUMIDITY\"             \n",
       " [4] \"WIND_SPEED\"            \"VISIBILITY\"            \"DEW_POINT_TEMPERATURE\"\n",
       " [7] \"SOLAR_RADIATION\"       \"RAINFALL\"              \"SNOWFALL\"             \n",
       "[10] \"0\"                     \"1\"                     \"10\"                   \n",
       "[13] \"11\"                    \"12\"                    \"13\"                   \n",
       "[16] \"14\"                    \"15\"                    \"16\"                   \n",
       "[19] \"17\"                    \"18\"                    \"19\"                   \n",
       "[22] \"2\"                     \"20\"                    \"21\"                   \n",
       "[25] \"22\"                    \"23\"                    \"3\"                    \n",
       "[28] \"4\"                     \"5\"                     \"6\"                    \n",
       "[31] \"7\"                     \"8\"                     \"9\"                    \n",
       "[34] \"AUTUMN\"                \"SPRING\"                \"SUMMER\"               \n",
       "[37] \"WINTER\"                \"HOLIDAY\"               \"NO_HOLIDAY\"           "
      ]
     },
     "metadata": {},
     "output_type": "display_data"
    }
   ],
   "source": [
    "colnames(train_data)"
   ]
  },
  {
   "cell_type": "code",
   "execution_count": 92,
   "id": "29c2c599-25fd-4841-9276-ad451114180e",
   "metadata": {},
   "outputs": [],
   "source": [
    "# Build at least five different models using polynomial terms, interaction terms, and regularizations.\n",
    "model_1_polynomial <- lm(RENTED_BIKE_COUNT ~ ., data = train_data)\n",
    "model_2_interaction <- lm(RENTED_BIKE_COUNT ~ poly(TEMPERATURE, 2) * HOLIDAY +\n",
    "                          poly(HUMIDITY, 4) * RAINFALL, data = train_data)\n",
    "model_5_interaction <- lm(RENTED_BIKE_COUNT ~ poly(TEMPERATURE, 6) * HOLIDAY *\n",
    "                          poly(HUMIDITY, 4) * RAINFALL, data = train_data)\n",
    "\n",
    "# Specify formulas\n",
    "formula1 <- RENTED_BIKE_COUNT ~ poly(TEMPERATURE, 4) * poly(HUMIDITY, 4) + poly(WIND_SPEED, 4) + poly(RAINFALL, 4) * poly(SNOWFALL, 4)\n",
    "formula2 <- RENTED_BIKE_COUNT ~ poly(RAINFALL, 4) * poly(HUMIDITY, 4) + HOLIDAY + SNOWFALL\n",
    "# Fit glmnet model\n",
    "model_3_regularization <- fit(glmnet_spec, formula1, data = train_data)\n",
    "model_4_regularization <- fit(glmnet_spec, formula2, data = train_data)"
   ]
  },
  {
   "cell_type": "code",
   "execution_count": 93,
   "metadata": {},
   "outputs": [],
   "source": [
    "all_models <- list(model_1_polynomial, model_2_interaction, model_3_regularization, model_4_regularization, model_5_interaction)"
   ]
  },
  {
   "cell_type": "code",
   "execution_count": 94,
   "metadata": {},
   "outputs": [
    {
     "name": "stderr",
     "output_type": "stream",
     "text": [
      "Warning message in predict.lm(model, test_data):\n",
      "\"prediction from a rank-deficient fit may be misleading\"\n",
      "Warning message in predict.lm(model, test_data):\n",
      "\"prediction from a rank-deficient fit may be misleading\"\n"
     ]
    }
   ],
   "source": [
    "# Save their rmse and rsq values\n",
    "rsq_values <- c()\n",
    "rmse_values <- c()\n",
    "for (model in all_models) {\n",
    "    # Generate predictions on the test data\n",
    "    pred <- predict(model, test_data)\n",
    "    # convert dataframe into vector\n",
    "    pred_vec <- as.vector(t(pred))\n",
    "    \n",
    "    # Calculate performance metrics\n",
    "    rsq <- (cor(pred_vec, test_data$RENTED_BIKE_COUNT))^2\n",
    "    rmse <- sqrt(mean((pred_vec - test_data$RENTED_BIKE_COUNT)^2))\n",
    "    \n",
    "    rsq_values <- c(rsq_values, rsq)\n",
    "    rmse_values <- c(rmse_values, rmse)\n",
    "}"
   ]
  },
  {
   "cell_type": "code",
   "execution_count": 95,
   "id": "09a468f7-41d8-4381-b78d-c5b207861dfb",
   "metadata": {},
   "outputs": [
    {
     "data": {
      "text/html": [
       "0.669727606376164"
      ],
      "text/latex": [
       "0.669727606376164"
      ],
      "text/markdown": [
       "0.669727606376164"
      ],
      "text/plain": [
       "[1] 0.6697276"
      ]
     },
     "metadata": {},
     "output_type": "display_data"
    },
    {
     "data": {
      "text/html": [
       "363.736877067783"
      ],
      "text/latex": [
       "363.736877067783"
      ],
      "text/markdown": [
       "363.736877067783"
      ],
      "text/plain": [
       "[1] 363.7369"
      ]
     },
     "metadata": {},
     "output_type": "display_data"
    }
   ],
   "source": [
    "# Report the best performed model in terms of rmse and rsq\n",
    "max(rsq_values)\n",
    "min(rmse_values)"
   ]
  },
  {
   "cell_type": "markdown",
   "id": "4a11b52c-31a3-4a3b-9272-1d08b9585f18",
   "metadata": {},
   "source": [
    "Here are the performance requirements for your best model:\n",
    "- The RMSE should be less than 330 (rougly 10% of the max value in test dataset)\n",
    "- R-squared should be greater than 0.72\n"
   ]
  },
  {
   "cell_type": "markdown",
   "id": "64a1901a-2cfa-4ef7-b3c5-10e2a4f381e6",
   "metadata": {},
   "source": [
    "_TODO:_ Visualize the saved RMSE and R-squared values using a grouped barchart\n"
   ]
  },
  {
   "cell_type": "code",
   "execution_count": 96,
   "metadata": {},
   "outputs": [
    {
     "data": {
      "image/png": "[encoded data removed]",
      "text/plain": [
       "plot without title"
      ]
     },
     "metadata": {
      "image/png": {
       "height": 420,
       "width": 420
      }
     },
     "output_type": "display_data"
    }
   ],
   "source": [
    "measurement_values <- data.frame(\n",
    "  rsq_values,\n",
    "  rmse_values\n",
    ")\n",
    "\n",
    "# HINT: Use ggplot() + geom_bar()\n",
    "ggplot(measurement_values, aes(x = rsq_values, y = rmse_values)) +\n",
    "  geom_bar(stat = \"identity\") +\n",
    "  labs(x = \"RSQ\", y = \"RMSE\") +\n",
    "  ggtitle(\"Measurment Values\") +\n",
    "  theme_bw() +\n",
    "  theme(plot.title = element_text(size = 14, face = \"bold\"),\n",
    "        axis.title = element_text(size = 12),\n",
    "        axis.text = element_text(size = 10))"
   ]
  },
  {
   "cell_type": "markdown",
   "id": "471febdb-02d7-4687-b59f-070fa3ae856a",
   "metadata": {},
   "source": [
    "_TODO:_ Create a Q-Q plot by plotting the distribution difference between the predictions generated by your best model and the true values on the test dataset.\n"
   ]
  },
  {
   "cell_type": "code",
   "execution_count": 97,
   "id": "77ff9a37-5689-4e84-b203-5bdc76fa2e91",
   "metadata": {},
   "outputs": [
    {
     "name": "stderr",
     "output_type": "stream",
     "text": [
      "Warning message:\n",
      "\"\u001b[1m\u001b[22mUse of `test_data$RENTED_BIKE_COUNT` is discouraged.\n",
      "\u001b[36mℹ\u001b[39m Use `RENTED_BIKE_COUNT` instead.\"\n",
      "Warning message in predict.lm(model_1_polynomial, test_data):\n",
      "\"prediction from a rank-deficient fit may be misleading\"\n",
      "Warning message in predict.lm(model_1_polynomial, test_data):\n",
      "\"prediction from a rank-deficient fit may be misleading\"\n"
     ]
    },
    {
     "data": {
      "image/png": "[encoded data removed]",
      "text/plain": [
       "plot without title"
      ]
     },
     "metadata": {
      "image/png": {
       "height": 420,
       "width": 420
      }
     },
     "output_type": "display_data"
    }
   ],
   "source": [
    "# HINT: Use ggplot() +\n",
    "    # stat_qq(aes(sample=truth), color='green') +\n",
    "    # stat_qq(aes(sample=prediction), color='red')\n",
    "ggplot(test_data, aes(sample = test_data$RENTED_BIKE_COUNT)) +\n",
    "  stat_qq(color = 'green') +\n",
    "  stat_qq(aes(sample = predict(model_1_polynomial, test_data)), color = 'red') +\n",
    "  theme_bw() +\n",
    "  theme(plot.title = element_text(size = 14, face = \"bold\"),\n",
    "        axis.title = element_text(size = 12),\n",
    "        axis.text = element_text(size = 10))"
   ]
  },
  {
   "cell_type": "markdown",
   "id": "bf2c2273-d731-4b70-a6c9-08885fc08b53",
   "metadata": {},
   "source": [
    "One example of such Q-Q plot may look like this:\n"
   ]
  },
  {
   "cell_type": "markdown",
   "id": "524724cb-f9bc-4805-a402-407e5a0e16c4",
   "metadata": {},
   "source": [
    "<a href=\"https://cognitiveclass.ai/?utm_medium=Exinfluencer&utm_source=Exinfluencer&utm_content=000026UJ&utm_term=10006555&utm_id=NA-SkillsNetwork-Channel-SkillsNetworkCoursesIBMDeveloperSkillsNetworkRP0321ENSkillsNetwork878-2022-01-01\">\n",
    "    <img src=\"https://cf-courses-data.s3.us.cloud-object-storage.appdomain.cloud/IBMDeveloperSkillsNetwork-RP0321EN-SkillsNetwork/labs/module_4/images/example_qq_plot.png\" width=\"600\" align=\"center\">\n",
    "</a>\n"
   ]
  },
  {
   "cell_type": "markdown",
   "id": "ed2767a6-df53-40cf-b2c4-261f5dc2d54e",
   "metadata": {},
   "source": [
    "# More model improvment methods beyond this course\n"
   ]
  },
  {
   "cell_type": "markdown",
   "id": "7a55dafc-3f17-423e-8a38-f89856104d87",
   "metadata": {},
   "source": [
    "In addition to the methods mentioned in this lab and previous data analysis courses, you could also explore to try the following methods yourself to see if they could improve model performance:\n",
    " - Remove potential redundant variables. If two variables have extremly high correlated, it is possible that they are redundant and could be removed from the model to improve the performance.\n",
    " - Remove some outliers. Linear regression models are very sensitive to outliers, you could try to remove some outliers to see if it would improve performance\n",
    " - Apply logarithm transformation. In case variable distributions are not normal distribution such as log-normal distribution, you could apply logaritm transformation on the variable to make them more look like normal distribution. In addition, logarithm transformation helps capture the non-linear relationships.\n",
    " \n",
    "If you have time, you could research and try more methods by searching related research papers/articles, discussion forums, etc. If you know how to use other machine learning models with `Tidymodels` such as Neural Networks, Tree models, or Boosting models, you can also try and compare them with the linear regression models.\n"
   ]
  },
  {
   "cell_type": "markdown",
   "id": "c4d90af9-bdab-444e-8330-d99d9ebe3ae0",
   "metadata": {},
   "source": [
    "# Next Steps:\n"
   ]
  },
  {
   "cell_type": "markdown",
   "id": "ca38cbe2-a480-4fe8-8916-0da799574dfe",
   "metadata": {},
   "source": [
    "Great! You have improved your baseline model using polynomial terms, interaction terms, and regularizations, and have found your best model.\n",
    "\n",
    "Now it's time to build an interactive dashboard to provide more interactive user-interactions.\n"
   ]
  },
  {
   "cell_type": "markdown",
   "id": "2ea2bdae-57ed-41c6-ba4b-042b757330ef",
   "metadata": {},
   "source": [
    "## Authors\n",
    "\n",
    "<a href=\"https://www.linkedin.com/in/yan-luo-96288783/?utm_medium=Exinfluencer&utm_source=Exinfluencer&utm_content=000026UJ&utm_term=10006555&utm_id=NA-SkillsNetwork-Channel-SkillsNetworkCoursesIBMDeveloperSkillsNetworkRP0321ENSkillsNetwork878-2022-01-01\" target=\"_blank\">Yan Luo</a>\n"
   ]
  },
  {
   "cell_type": "markdown",
   "id": "b96e72e9-13d7-42d5-b1f4-3da419e0c4cc",
   "metadata": {},
   "source": [
    "### Other Contributors\n",
    "\n",
    "Jeff Grossman\n"
   ]
  },
  {
   "cell_type": "markdown",
   "id": "a3dcff59-f1df-42db-b6a8-6afc37d9b534",
   "metadata": {},
   "source": [
    "## Change Log\n",
    "\n",
    "| Date (YYYY-MM-DD) | Version | Changed By | Change Description           |\n",
    "| ----------------- | ------- | ---------- | ---------------------------- |\n",
    "| 2021-04-08        | 1.0     | Yan        | Initial version created      |\n",
    "|                   |         |            |                              |\n",
    "|                   |         |            |                              |\n",
    "\n",
    "## <h3 align=\"center\"> © IBM Corporation 2021. All rights reserved. <h3/>\n"
   ]
  }
 ],
 "metadata": {
  "kernelspec": {
   "display_name": "R",
   "language": "R",
   "name": "ir"
  },
  "language_info": {
   "codemirror_mode": "r",
   "file_extension": ".r",
   "mimetype": "text/x-r-source",
   "name": "R",
   "pygments_lexer": "r",
   "version": "4.2.2"
  }
 },
 "nbformat": 4,
 "nbformat_minor": 4
}
